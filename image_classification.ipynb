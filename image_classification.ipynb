{
 "cells": [
  {
   "cell_type": "markdown",
   "metadata": {
    "collapsed": true
   },
   "source": [
    "# Image Classification\n",
    "In this project, you'll classify images from the [CIFAR-10 dataset](https://www.cs.toronto.edu/~kriz/cifar.html).  The dataset consists of airplanes, dogs, cats, and other objects. You'll preprocess the images, then train a convolutional neural network on all the samples. The images need to be normalized and the labels need to be one-hot encoded.  You'll get to apply what you learned and build a convolutional, max pooling, dropout, and fully connected layers.  At the end, you'll get to see your neural network's predictions on the sample images.\n",
    "## Get the Data\n",
    "Run the following cell to download the [CIFAR-10 dataset for python](https://www.cs.toronto.edu/~kriz/cifar-10-python.tar.gz)."
   ]
  },
  {
   "cell_type": "code",
   "execution_count": 1,
   "metadata": {
    "collapsed": false
   },
   "outputs": [
    {
     "name": "stdout",
     "output_type": "stream",
     "text": [
      "All files found!\n"
     ]
    }
   ],
   "source": [
    "\"\"\"\n",
    "DON'T MODIFY ANYTHING IN THIS CELL THAT IS BELOW THIS LINE\n",
    "\"\"\"\n",
    "from urllib.request import urlretrieve\n",
    "from os.path import isfile, isdir\n",
    "from tqdm import tqdm\n",
    "import problem_unittests as tests\n",
    "import tarfile\n",
    "\n",
    "cifar10_dataset_folder_path = 'cifar-10-batches-py'\n",
    "\n",
    "class DLProgress(tqdm):\n",
    "    last_block = 0\n",
    "\n",
    "    def hook(self, block_num=1, block_size=1, total_size=None):\n",
    "        self.total = total_size\n",
    "        self.update((block_num - self.last_block) * block_size)\n",
    "        self.last_block = block_num\n",
    "\n",
    "if not isfile('cifar-10-python.tar.gz'):\n",
    "    with DLProgress(unit='B', unit_scale=True, miniters=1, desc='CIFAR-10 Dataset') as pbar:\n",
    "        urlretrieve(\n",
    "            'https://www.cs.toronto.edu/~kriz/cifar-10-python.tar.gz',\n",
    "            'cifar-10-python.tar.gz',\n",
    "            pbar.hook)\n",
    "\n",
    "if not isdir(cifar10_dataset_folder_path):\n",
    "    with tarfile.open('cifar-10-python.tar.gz') as tar:\n",
    "        tar.extractall()\n",
    "        tar.close()\n",
    "\n",
    "\n",
    "tests.test_folder_path(cifar10_dataset_folder_path)"
   ]
  },
  {
   "cell_type": "markdown",
   "metadata": {},
   "source": [
    "## Explore the Data\n",
    "The dataset is broken into batches to prevent your machine from running out of memory.  The CIFAR-10 dataset consists of 5 batches, named `data_batch_1`, `data_batch_2`, etc.. Each batch contains the labels and images that are one of the following:\n",
    "* airplane\n",
    "* automobile\n",
    "* bird\n",
    "* cat\n",
    "* deer\n",
    "* dog\n",
    "* frog\n",
    "* horse\n",
    "* ship\n",
    "* truck\n",
    "\n",
    "Understanding a dataset is part of making predictions on the data.  Play around with the code cell below by changing the `batch_id` and `sample_id`. The `batch_id` is the id for a batch (1-5). The `sample_id` is the id for a image and label pair in the batch.\n",
    "\n",
    "Ask yourself \"What are all possible labels?\", \"What is the range of values for the image data?\", \"Are the labels in order or random?\".  Answers to questions like these will help you preprocess the data and end up with better predictions."
   ]
  },
  {
   "cell_type": "code",
   "execution_count": 2,
   "metadata": {
    "collapsed": false
   },
   "outputs": [
    {
     "name": "stdout",
     "output_type": "stream",
     "text": [
      "\n",
      "Stats of batch 5:\n",
      "Samples: 10000\n",
      "Label Counts: {0: 1014, 1: 1014, 2: 952, 3: 1016, 4: 997, 5: 1025, 6: 980, 7: 977, 8: 1003, 9: 1022}\n",
      "First 20 Labels: [1, 8, 5, 1, 5, 7, 4, 3, 8, 2, 7, 2, 0, 1, 5, 9, 6, 2, 0, 8]\n",
      "\n",
      "Example of Image 50:\n",
      "Image - Min Value: 4 Max Value: 255\n",
      "Image - Shape: (32, 32, 3)\n",
      "Label - Label Id: 9 Name: truck\n"
     ]
    },
    {
     "data": {
      "image/png": "[encoded data removed]",
      "text/plain": [
       "<matplotlib.figure.Figure at 0x7f6483ef9a20>"
      ]
     },
     "metadata": {
      "image/png": {
       "height": 250,
       "width": 253
      }
     },
     "output_type": "display_data"
    }
   ],
   "source": [
    "%matplotlib inline\n",
    "%config InlineBackend.figure_format = 'retina'\n",
    "\n",
    "import helper\n",
    "import numpy as np\n",
    "\n",
    "# Explore the dataset\n",
    "batch_id = 5\n",
    "sample_id = 50\n",
    "helper.display_stats(cifar10_dataset_folder_path, batch_id, sample_id)"
   ]
  },
  {
   "cell_type": "markdown",
   "metadata": {},
   "source": [
    "## Implement Preprocess Functions\n",
    "### Normalize\n",
    "In the cell below, implement the `normalize` function to take in image data, `x`, and return it as a normalized Numpy array. The values should be in the range of 0 to 1, inclusive.  The return object should be the same shape as `x`."
   ]
  },
  {
   "cell_type": "code",
   "execution_count": 3,
   "metadata": {
    "collapsed": false
   },
   "outputs": [
    {
     "name": "stdout",
     "output_type": "stream",
     "text": [
      "Tests Passed\n"
     ]
    }
   ],
   "source": [
    "def normalize(x):\n",
    "    \"\"\"\n",
    "    Normalize a list of sample image data in the range of 0 to 1\n",
    "    : x: List of image data.  The image shape is (32, 32, 3)\n",
    "    : return: Numpy array of normalize data\n",
    "    \"\"\"\n",
    "    # TODO: Implement Function\n",
    "    return x/255\n",
    "\n",
    "\n",
    "\"\"\"\n",
    "DON'T MODIFY ANYTHING IN THIS CELL THAT IS BELOW THIS LINE\n",
    "\"\"\"\n",
    "tests.test_normalize(normalize)"
   ]
  },
  {
   "cell_type": "markdown",
   "metadata": {},
   "source": [
    "### One-hot encode\n",
    "Just like the previous code cell, you'll be implementing a function for preprocessing.  This time, you'll implement the `one_hot_encode` function. The input, `x`, are a list of labels.  Implement the function to return the list of labels as One-Hot encoded Numpy array.  The possible values for labels are 0 to 9. The one-hot encoding function should return the same encoding for each value between each call to `one_hot_encode`.  Make sure to save the map of encodings outside the function.\n",
    "\n",
    "**Hint:**\n",
    "\n",
    "Look into LabelBinarizer in the preprocessing module of sklearn."
   ]
  },
  {
   "cell_type": "code",
   "execution_count": 4,
   "metadata": {
    "collapsed": false
   },
   "outputs": [
    {
     "name": "stdout",
     "output_type": "stream",
     "text": [
      "Tests Passed\n"
     ]
    }
   ],
   "source": [
    "encode_mapping = {key: np.eye(1, 10, key)[0] for key in range(0,10)}\n",
    "\n",
    "def one_hot_encode(x):\n",
    "    \"\"\"\n",
    "    One hot encode a list of sample labels. Return a one-hot encoded vector for each label.\n",
    "    : x: List of sample Labels\n",
    "    : return: Numpy array of one-hot encoded labels\n",
    "    \"\"\"\n",
    "    # TODO: Implement Function\n",
    "    one_hot_labels = []\n",
    "    for i in x:\n",
    "        one_hot_label = encode_mapping[i]\n",
    "        one_hot_labels.append(one_hot_label)\n",
    "    return np.array(one_hot_labels)\n",
    "\n",
    "\n",
    "\"\"\"\n",
    "DON'T MODIFY ANYTHING IN THIS CELL THAT IS BELOW THIS LINE\n",
    "\"\"\"\n",
    "tests.test_one_hot_encode(one_hot_encode)"
   ]
  },
  {
   "cell_type": "markdown",
   "metadata": {},
   "source": [
    "### Randomize Data\n",
    "As you saw from exploring the data above, the order of the samples are randomized.  It doesn't hurt to randomize it again, but you don't need to for this dataset."
   ]
  },
  {
   "cell_type": "markdown",
   "metadata": {},
   "source": [
    "## Preprocess all the data and save it\n",
    "Running the code cell below will preprocess all the CIFAR-10 data and save it to file. The code below also uses 10% of the training data for validation."
   ]
  },
  {
   "cell_type": "code",
   "execution_count": 5,
   "metadata": {
    "collapsed": false
   },
   "outputs": [],
   "source": [
    "\"\"\"\n",
    "DON'T MODIFY ANYTHING IN THIS CELL\n",
    "\"\"\"\n",
    "# Preprocess Training, Validation, and Testing Data\n",
    "helper.preprocess_and_save_data(cifar10_dataset_folder_path, normalize, one_hot_encode)"
   ]
  },
  {
   "cell_type": "markdown",
   "metadata": {},
   "source": [
    "# Check Point\n",
    "This is your first checkpoint.  If you ever decide to come back to this notebook or have to restart the notebook, you can start from here.  The preprocessed data has been saved to disk."
   ]
  },
  {
   "cell_type": "code",
   "execution_count": 6,
   "metadata": {
    "collapsed": true
   },
   "outputs": [],
   "source": [
    "\"\"\"\n",
    "DON'T MODIFY ANYTHING IN THIS CELL\n",
    "\"\"\"\n",
    "import pickle\n",
    "import problem_unittests as tests\n",
    "import helper\n",
    "\n",
    "# Load the Preprocessed Validation data\n",
    "valid_features, valid_labels = pickle.load(open('preprocess_validation.p', mode='rb'))"
   ]
  },
  {
   "cell_type": "markdown",
   "metadata": {},
   "source": [
    "## Build the network\n",
    "For the neural network, you'll build each layer into a function.  Most of the code you've seen has been outside of functions. To test your code more thoroughly, we require that you put each layer in a function.  This allows us to give you better feedback and test for simple mistakes using our unittests before you submit your project.\n",
    "\n",
    ">**Note:** If you're finding it hard to dedicate enough time for this course each week, we've provided a small shortcut to this part of the project. In the next couple of problems, you'll have the option to use classes from the [TensorFlow Layers](https://www.tensorflow.org/api_docs/python/tf/layers) or [TensorFlow Layers (contrib)](https://www.tensorflow.org/api_guides/python/contrib.layers) packages to build each layer, except the layers you build in the \"Convolutional and Max Pooling Layer\" section.  TF Layers is similar to Keras's and TFLearn's abstraction to layers, so it's easy to pickup.\n",
    "\n",
    ">However, if you would like to get the most out of this course, try to solve all the problems _without_ using anything from the TF Layers packages. You **can** still use classes from other packages that happen to have the same name as ones you find in TF Layers! For example, instead of using the TF Layers version of the `conv2d` class, [tf.layers.conv2d](https://www.tensorflow.org/api_docs/python/tf/layers/conv2d), you would want to use the TF Neural Network version of `conv2d`, [tf.nn.conv2d](https://www.tensorflow.org/api_docs/python/tf/nn/conv2d). \n",
    "\n",
    "Let's begin!\n",
    "\n",
    "### Input\n",
    "The neural network needs to read the image data, one-hot encoded labels, and dropout keep probability. Implement the following functions\n",
    "* Implement `neural_net_image_input`\n",
    " * Return a [TF Placeholder](https://www.tensorflow.org/api_docs/python/tf/placeholder)\n",
    " * Set the shape using `image_shape` with batch size set to `None`.\n",
    " * Name the TensorFlow placeholder \"x\" using the TensorFlow `name` parameter in the [TF Placeholder](https://www.tensorflow.org/api_docs/python/tf/placeholder).\n",
    "* Implement `neural_net_label_input`\n",
    " * Return a [TF Placeholder](https://www.tensorflow.org/api_docs/python/tf/placeholder)\n",
    " * Set the shape using `n_classes` with batch size set to `None`.\n",
    " * Name the TensorFlow placeholder \"y\" using the TensorFlow `name` parameter in the [TF Placeholder](https://www.tensorflow.org/api_docs/python/tf/placeholder).\n",
    "* Implement `neural_net_keep_prob_input`\n",
    " * Return a [TF Placeholder](https://www.tensorflow.org/api_docs/python/tf/placeholder) for dropout keep probability.\n",
    " * Name the TensorFlow placeholder \"keep_prob\" using the TensorFlow `name` parameter in the [TF Placeholder](https://www.tensorflow.org/api_docs/python/tf/placeholder).\n",
    "\n",
    "These names will be used at the end of the project to load your saved model.\n",
    "\n",
    "Note: `None` for shapes in TensorFlow allow for a dynamic size."
   ]
  },
  {
   "cell_type": "code",
   "execution_count": 7,
   "metadata": {
    "collapsed": false
   },
   "outputs": [
    {
     "name": "stdout",
     "output_type": "stream",
     "text": [
      "Image Input Tests Passed.\n",
      "Label Input Tests Passed.\n",
      "Keep Prob Tests Passed.\n"
     ]
    }
   ],
   "source": [
    "import tensorflow as tf\n",
    "\n",
    "def neural_net_image_input(image_shape):\n",
    "    \"\"\"\n",
    "    Return a Tensor for a batch of image input\n",
    "    : image_shape: Shape of the images\n",
    "    : return: Tensor for image input.\n",
    "    \"\"\"\n",
    "    # TODO: Implement Function\n",
    "    shape = (None,) + image_shape\n",
    "    x = tf.placeholder(tf.float32, shape=shape, name=\"x\")\n",
    "    return x\n",
    "\n",
    "\n",
    "\n",
    "def neural_net_label_input(n_classes):\n",
    "    \"\"\"\n",
    "    Return a Tensor for a batch of label input\n",
    "    : n_classes: Number of classes\n",
    "    : return: Tensor for label input.\n",
    "    \"\"\"\n",
    "    # TODO: Implement Function\n",
    "    shape = (None, n_classes)\n",
    "    y = tf.placeholder(tf.float32, shape=shape, name=\"y\")\n",
    "    return y\n",
    "\n",
    "\n",
    "def neural_net_keep_prob_input():\n",
    "    \"\"\"\n",
    "    Return a Tensor for keep probability\n",
    "    : return: Tensor for keep probability.\n",
    "    \"\"\"\n",
    "    # TODO: Implement Function\n",
    "    keep_prob = tf.placeholder(tf.float32, shape=None, name=\"keep_prob\")\n",
    "    return keep_prob\n",
    "\n",
    "\n",
    "\"\"\"\n",
    "DON'T MODIFY ANYTHING IN THIS CELL THAT IS BELOW THIS LINE\n",
    "\"\"\"\n",
    "tf.reset_default_graph()\n",
    "tests.test_nn_image_inputs(neural_net_image_input)\n",
    "tests.test_nn_label_inputs(neural_net_label_input)\n",
    "tests.test_nn_keep_prob_inputs(neural_net_keep_prob_input)"
   ]
  },
  {
   "cell_type": "markdown",
   "metadata": {},
   "source": [
    "### Convolution and Max Pooling Layer\n",
    "Convolution layers have a lot of success with images. For this code cell, you should implement the function `conv2d_maxpool` to apply convolution then max pooling:\n",
    "* Create the weight and bias using `conv_ksize`, `conv_num_outputs` and the shape of `x_tensor`.\n",
    "* Apply a convolution to `x_tensor` using weight and `conv_strides`.\n",
    " * We recommend you use same padding, but you're welcome to use any padding.\n",
    "* Add bias\n",
    "* Add a nonlinear activation to the convolution.\n",
    "* Apply Max Pooling using `pool_ksize` and `pool_strides`.\n",
    " * We recommend you use same padding, but you're welcome to use any padding.\n",
    "\n",
    "**Note:** You **can't** use [TensorFlow Layers](https://www.tensorflow.org/api_docs/python/tf/layers) or [TensorFlow Layers (contrib)](https://www.tensorflow.org/api_guides/python/contrib.layers) for **this** layer, but you can still use TensorFlow's [Neural Network](https://www.tensorflow.org/api_docs/python/tf/nn) package. You may still use the shortcut option for all the **other** layers.\n",
    "\n",
    "** Hint: **\n",
    "\n",
    "When unpacking values as an argument in Python, look into the [unpacking](https://docs.python.org/3/tutorial/controlflow.html#unpacking-argument-lists) operator. "
   ]
  },
  {
   "cell_type": "code",
   "execution_count": 8,
   "metadata": {
    "collapsed": false
   },
   "outputs": [
    {
     "name": "stdout",
     "output_type": "stream",
     "text": [
      "Tests Passed\n"
     ]
    }
   ],
   "source": [
    "def conv2d_maxpool(x_tensor, conv_num_outputs, conv_ksize, conv_strides, pool_ksize, pool_strides):\n",
    "    \"\"\"\n",
    "    Apply convolution then max pooling to x_tensor\n",
    "    :param x_tensor: TensorFlow Tensor\n",
    "    :param conv_num_outputs: Number of outputs for the convolutional layer\n",
    "    :param conv_ksize: kernal size 2-D Tuple for the convolutional layer\n",
    "    :param conv_strides: Stride 2-D Tuple for convolution\n",
    "    :param pool_ksize: kernal size 2-D Tuple for pool\n",
    "    :param pool_strides: Stride 2-D Tuple for pool\n",
    "    : return: A tensor that represents convolution and max pooling of x_tensor\n",
    "    \"\"\"\n",
    "    # TODO: Implement Function\n",
    "    w_shape = (conv_ksize[0], conv_ksize[1], x_tensor.get_shape().as_list()[-1], conv_num_outputs)\n",
    "    W = tf.Variable(tf.random_normal(w_shape))*np.sqrt(2.0/np.prod(w_shape[:-1]))\n",
    "    b = tf.Variable(tf.zeros([conv_num_outputs]))\n",
    "\n",
    "    conv = tf.nn.conv2d(x_tensor, W, strides=[1, conv_strides[0], conv_strides[1], 1], padding='SAME')\n",
    "    conv = tf.nn.bias_add(conv, b)\n",
    "    \n",
    "    conv = tf.nn.relu(conv)\n",
    "    \n",
    "    conv = tf.nn.max_pool(conv, \\\n",
    "                          ksize=[1, pool_ksize[0], pool_ksize[1], 1], \\\n",
    "                          strides=[1, pool_strides[0], pool_strides[1], 1], \\\n",
    "                          padding='SAME')\n",
    "    \n",
    "    return conv\n",
    "\n",
    "\n",
    "\"\"\"\n",
    "DON'T MODIFY ANYTHING IN THIS CELL THAT IS BELOW THIS LINE\n",
    "\"\"\"\n",
    "tests.test_con_pool(conv2d_maxpool)"
   ]
  },
  {
   "cell_type": "markdown",
   "metadata": {},
   "source": [
    "### Flatten Layer\n",
    "Implement the `flatten` function to change the dimension of `x_tensor` from a 4-D tensor to a 2-D tensor.  The output should be the shape (*Batch Size*, *Flattened Image Size*). Shortcut option: you can use classes from the [TensorFlow Layers](https://www.tensorflow.org/api_docs/python/tf/layers) or [TensorFlow Layers (contrib)](https://www.tensorflow.org/api_guides/python/contrib.layers) packages for this layer. For more of a challenge, only use other TensorFlow packages."
   ]
  },
  {
   "cell_type": "code",
   "execution_count": 9,
   "metadata": {
    "collapsed": false
   },
   "outputs": [
    {
     "name": "stdout",
     "output_type": "stream",
     "text": [
      "Tests Passed\n"
     ]
    }
   ],
   "source": [
    "def flatten(x_tensor):\n",
    "    \"\"\"\n",
    "    Flatten x_tensor to (Batch Size, Flattened Image Size)\n",
    "    : x_tensor: A tensor of size (Batch Size, ...), where ... are the image dimensions.\n",
    "    : return: A tensor of size (Batch Size, Flattened Image Size).\n",
    "    \"\"\"\n",
    "    # TODO: Implement Function\n",
    "    return tf.reshape(x_tensor, [tf.shape(x_tensor)[0], np.prod(x_tensor.get_shape().as_list()[1:])])\n",
    "    return None\n",
    "\n",
    "\"\"\"\n",
    "DON'T MODIFY ANYTHING IN THIS CELL THAT IS BELOW THIS LINE\n",
    "\"\"\"\n",
    "tests.test_flatten(flatten)"
   ]
  },
  {
   "cell_type": "markdown",
   "metadata": {},
   "source": [
    "### Fully-Connected Layer\n",
    "Implement the `fully_conn` function to apply a fully connected layer to `x_tensor` with the shape (*Batch Size*, *num_outputs*). Shortcut option: you can use classes from the [TensorFlow Layers](https://www.tensorflow.org/api_docs/python/tf/layers) or [TensorFlow Layers (contrib)](https://www.tensorflow.org/api_guides/python/contrib.layers) packages for this layer. For more of a challenge, only use other TensorFlow packages."
   ]
  },
  {
   "cell_type": "code",
   "execution_count": 10,
   "metadata": {
    "collapsed": false
   },
   "outputs": [
    {
     "name": "stdout",
     "output_type": "stream",
     "text": [
      "Tests Passed\n"
     ]
    }
   ],
   "source": [
    "def fully_conn(x_tensor, num_outputs):\n",
    "    \"\"\"\n",
    "    Apply a fully connected layer to x_tensor using weight and bias\n",
    "    : x_tensor: A 2-D tensor where the first dimension is batch size.\n",
    "    : num_outputs: The number of output that the new tensor should be.\n",
    "    : return: A 2-D tensor where the second dimension is num_outputs.\n",
    "    \"\"\"\n",
    "    # TODO: Implement Function\n",
    "    w_shape = (x_tensor.get_shape().as_list()[1], num_outputs)\n",
    "    W = tf.Variable(tf.random_normal(w_shape)*np.sqrt(2.0/x_tensor.get_shape().as_list()[1]))\n",
    "    b = tf.Variable(tf.zeros([num_outputs]))    \n",
    "    fc = tf.add(tf.matmul(x_tensor, W), b)\n",
    "    fc = tf.nn.relu(fc)\n",
    "\n",
    "    return fc\n",
    "\n",
    "\n",
    "\"\"\"\n",
    "DON'T MODIFY ANYTHING IN THIS CELL THAT IS BELOW THIS LINE\n",
    "\"\"\"\n",
    "tests.test_fully_conn(fully_conn)"
   ]
  },
  {
   "cell_type": "markdown",
   "metadata": {},
   "source": [
    "### Output Layer\n",
    "Implement the `output` function to apply a fully connected layer to `x_tensor` with the shape (*Batch Size*, *num_outputs*). Shortcut option: you can use classes from the [TensorFlow Layers](https://www.tensorflow.org/api_docs/python/tf/layers) or [TensorFlow Layers (contrib)](https://www.tensorflow.org/api_guides/python/contrib.layers) packages for this layer. For more of a challenge, only use other TensorFlow packages.\n",
    "\n",
    "**Note:** Activation, softmax, or cross entropy should **not** be applied to this."
   ]
  },
  {
   "cell_type": "code",
   "execution_count": 11,
   "metadata": {
    "collapsed": false
   },
   "outputs": [
    {
     "name": "stdout",
     "output_type": "stream",
     "text": [
      "Tests Passed\n"
     ]
    }
   ],
   "source": [
    "def output(x_tensor, num_outputs):\n",
    "    \"\"\"\n",
    "    Apply a output layer to x_tensor using weight and bias\n",
    "    : x_tensor: A 2-D tensor where the first dimension is batch size.\n",
    "    : num_outputs: The number of output that the new tensor should be.\n",
    "    : return: A 2-D tensor where the second dimension is num_outputs.\n",
    "    \"\"\"\n",
    "    # TODO: Implement Function\n",
    "    w_shape = (x_tensor.get_shape().as_list()[1], num_outputs)\n",
    "    W = tf.Variable(tf.random_normal(w_shape))\n",
    "    b = tf.Variable(tf.zeros([num_outputs]))\n",
    "    \n",
    "    out = tf.add(tf.matmul(x_tensor, W), b)\n",
    "    return out\n",
    "\n",
    "\n",
    "\"\"\"\n",
    "DON'T MODIFY ANYTHING IN THIS CELL THAT IS BELOW THIS LINE\n",
    "\"\"\"\n",
    "tests.test_output(output)"
   ]
  },
  {
   "cell_type": "markdown",
   "metadata": {},
   "source": [
    "### Create Convolutional Model\n",
    "Implement the function `conv_net` to create a convolutional neural network model. The function takes in a batch of images, `x`, and outputs logits.  Use the layers you created above to create this model:\n",
    "\n",
    "* Apply 1, 2, or 3 Convolution and Max Pool layers\n",
    "* Apply a Flatten Layer\n",
    "* Apply 1, 2, or 3 Fully Connected Layers\n",
    "* Apply an Output Layer\n",
    "* Return the output\n",
    "* Apply [TensorFlow's Dropout](https://www.tensorflow.org/api_docs/python/tf/nn/dropout) to one or more layers in the model using `keep_prob`. "
   ]
  },
  {
   "cell_type": "code",
   "execution_count": 12,
   "metadata": {
    "collapsed": false
   },
   "outputs": [
    {
     "name": "stdout",
     "output_type": "stream",
     "text": [
      "Neural Network Built!\n"
     ]
    }
   ],
   "source": [
    "def conv_net(x, keep_prob):\n",
    "    \"\"\"\n",
    "    Create a convolutional neural network model\n",
    "    : x: Placeholder tensor that holds image data.\n",
    "    : keep_prob: Placeholder tensor that hold dropout keep probability.\n",
    "    : return: Tensor that represents logits\n",
    "    \"\"\"\n",
    "    # TODO: Apply 1, 2, or 3 Convolution and Max Pool layers\n",
    "    #    Play around with different number of outputs, kernel size and stride\n",
    "    # Function Definition from Above:\n",
    "    #    conv2d_maxpool(x_tensor, conv_num_outputs, conv_ksize, conv_strides, pool_ksize, pool_strides)\n",
    "    conv_out = conv2d_maxpool(x, conv_num_outputs=32, conv_ksize=(3, 3), \\\n",
    "                          conv_strides=(1, 1), pool_ksize=(2, 2), pool_strides=(2, 2))\n",
    "    conv_out = conv2d_maxpool(conv_out, conv_num_outputs=64, conv_ksize=(3, 3), \\\n",
    "                          conv_strides=(1, 1), pool_ksize=(2, 2), pool_strides=(2, 2))\n",
    "    conv_out = conv2d_maxpool(conv_out, conv_num_outputs=128, conv_ksize=(3, 3), \\\n",
    "                          conv_strides=(1, 1), pool_ksize=(2, 2), pool_strides=(2, 2))\n",
    "\n",
    "    # TODO: Apply a Flatten Layer\n",
    "    # Function Definition from Above:\n",
    "    #   flatten(x_tensor)\n",
    "    flat = flatten(conv_out)\n",
    "\n",
    "    # TODO: Apply 1, 2, or 3 Fully Connected Layers\n",
    "    #    Play around with different number of outputs\n",
    "    # Function Definition from Above:\n",
    "    #   fully_conn(x_tensor, num_outputs)\n",
    "    fc_out = fully_conn(flat, 512) \n",
    "    fc_out = tf.nn.dropout(fc_out, keep_prob)\n",
    "    fc_out = fully_conn(fc_out, 256) \n",
    "    fc_out = tf.nn.dropout(fc_out, keep_prob)\n",
    "    \n",
    "    # TODO: Apply an Output Layer\n",
    "    #    Set this to the number of classes\n",
    "    # Function Definition from Above:\n",
    "    #   output(x_tensor, num_outputs)\n",
    "    final_out = output(fc_out, 10)\n",
    "    \n",
    "    # TODO: return output\n",
    "    return final_out\n",
    "\n",
    "\n",
    "\"\"\"\n",
    "DON'T MODIFY ANYTHING IN THIS CELL THAT IS BELOW THIS LINE\n",
    "\"\"\"\n",
    "\n",
    "##############################\n",
    "## Build the Neural Network ##\n",
    "##############################\n",
    "\n",
    "# Remove previous weights, bias, inputs, etc..\n",
    "tf.reset_default_graph()\n",
    "\n",
    "# Inputs\n",
    "x = neural_net_image_input((32, 32, 3))\n",
    "y = neural_net_label_input(10)\n",
    "keep_prob = neural_net_keep_prob_input()\n",
    "\n",
    "# Model\n",
    "logits = conv_net(x, keep_prob)\n",
    "\n",
    "# Name logits Tensor, so that is can be loaded from disk after training\n",
    "logits = tf.identity(logits, name='logits')\n",
    "\n",
    "# Loss and Optimizer\n",
    "cost = tf.reduce_mean(tf.nn.softmax_cross_entropy_with_logits(logits=logits, labels=y))\n",
    "optimizer = tf.train.AdamOptimizer().minimize(cost)\n",
    "\n",
    "# Accuracy\n",
    "correct_pred = tf.equal(tf.argmax(logits, 1), tf.argmax(y, 1))\n",
    "accuracy = tf.reduce_mean(tf.cast(correct_pred, tf.float32), name='accuracy')\n",
    "\n",
    "tests.test_conv_net(conv_net)"
   ]
  },
  {
   "cell_type": "markdown",
   "metadata": {},
   "source": [
    "## Train the Neural Network\n",
    "### Single Optimization\n",
    "Implement the function `train_neural_network` to do a single optimization.  The optimization should use `optimizer` to optimize in `session` with a `feed_dict` of the following:\n",
    "* `x` for image input\n",
    "* `y` for labels\n",
    "* `keep_prob` for keep probability for dropout\n",
    "\n",
    "This function will be called for each batch, so `tf.global_variables_initializer()` has already been called.\n",
    "\n",
    "Note: Nothing needs to be returned. This function is only optimizing the neural network."
   ]
  },
  {
   "cell_type": "code",
   "execution_count": 13,
   "metadata": {
    "collapsed": false
   },
   "outputs": [
    {
     "name": "stdout",
     "output_type": "stream",
     "text": [
      "Tests Passed\n"
     ]
    }
   ],
   "source": [
    "def train_neural_network(session, optimizer, keep_probability, feature_batch, label_batch):\n",
    "    \"\"\"\n",
    "    Optimize the session on a batch of images and labels\n",
    "    : session: Current TensorFlow session\n",
    "    : optimizer: TensorFlow optimizer function\n",
    "    : keep_probability: keep probability\n",
    "    : feature_batch: Batch of Numpy image data\n",
    "    : label_batch: Batch of Numpy label data\n",
    "    \"\"\"\n",
    "    # TODO: Implement Function\n",
    "    session.run(optimizer, feed_dict={x: feature_batch, y: label_batch, keep_prob: keep_probability})\n",
    "\n",
    "\n",
    "\"\"\"\n",
    "DON'T MODIFY ANYTHING IN THIS CELL THAT IS BELOW THIS LINE\n",
    "\"\"\"\n",
    "tests.test_train_nn(train_neural_network)"
   ]
  },
  {
   "cell_type": "markdown",
   "metadata": {},
   "source": [
    "### Show Stats\n",
    "Implement the function `print_stats` to print loss and validation accuracy.  Use the global variables `valid_features` and `valid_labels` to calculate validation accuracy.  Use a keep probability of `1.0` to calculate the loss and validation accuracy."
   ]
  },
  {
   "cell_type": "code",
   "execution_count": 14,
   "metadata": {
    "collapsed": false
   },
   "outputs": [],
   "source": [
    "def print_stats(session, feature_batch, label_batch, cost, accuracy):\n",
    "    \"\"\"\n",
    "    Print information about loss and validation accuracy\n",
    "    : session: Current TensorFlow session\n",
    "    : feature_batch: Batch of Numpy image data\n",
    "    : label_batch: Batch of Numpy label data\n",
    "    : cost: TensorFlow cost function\n",
    "    : accuracy: TensorFlow accuracy function\n",
    "    \"\"\"\n",
    "    # TODO: Implement Function\n",
    "    loss = sess.run(cost, feed_dict={x: feature_batch, y: label_batch, keep_prob: 1.})\n",
    "    train_acc = session.run(accuracy, feed_dict={x: feature_batch, y: label_batch, keep_prob: 1.})\n",
    "    val_acc = session.run(accuracy, feed_dict={x: valid_features, y: valid_labels, keep_prob: 1.})\n",
    "\n",
    "    print('Loss: {:.6f} Training Accuracy: {:.4f} Validation Accuracy: {:.4f}'.format(loss, train_acc, val_acc))"
   ]
  },
  {
   "cell_type": "markdown",
   "metadata": {},
   "source": [
    "### Hyperparameters\n",
    "Tune the following parameters:\n",
    "* Set `epochs` to the number of iterations until the network stops learning or start overfitting\n",
    "* Set `batch_size` to the highest number that your machine has memory for.  Most people set them to common sizes of memory:\n",
    " * 64\n",
    " * 128\n",
    " * 256\n",
    " * ...\n",
    "* Set `keep_probability` to the probability of keeping a node using dropout"
   ]
  },
  {
   "cell_type": "code",
   "execution_count": 15,
   "metadata": {
    "collapsed": true
   },
   "outputs": [],
   "source": [
    "# TODO: Tune Parameters\n",
    "epochs = 70\n",
    "batch_size = 4096\n",
    "keep_probability = 0.8"
   ]
  },
  {
   "cell_type": "markdown",
   "metadata": {},
   "source": [
    "### Train on a Single CIFAR-10 Batch\n",
    "Instead of training the neural network on all the CIFAR-10 batches of data, let's use a single batch. This should save time while you iterate on the model to get a better accuracy.  Once the final validation accuracy is 50% or greater, run the model on all the data in the next section."
   ]
  },
  {
   "cell_type": "code",
   "execution_count": 16,
   "metadata": {
    "collapsed": false
   },
   "outputs": [
    {
     "name": "stdout",
     "output_type": "stream",
     "text": [
      "Checking the Training on a Single Batch...\n",
      "Epoch  1, CIFAR-10 Batch 1:  Loss: 18.148073 Training Accuracy: 0.1163 Validation Accuracy: 0.1070\n",
      "Epoch  2, CIFAR-10 Batch 1:  Loss: 4.762289 Training Accuracy: 0.1126 Validation Accuracy: 0.1248\n",
      "Epoch  3, CIFAR-10 Batch 1:  Loss: 3.326774 Training Accuracy: 0.1522 Validation Accuracy: 0.1316\n",
      "Epoch  4, CIFAR-10 Batch 1:  Loss: 2.958423 Training Accuracy: 0.1361 Validation Accuracy: 0.1434\n",
      "Epoch  5, CIFAR-10 Batch 1:  Loss: 2.360929 Training Accuracy: 0.2017 Validation Accuracy: 0.1754\n",
      "Epoch  6, CIFAR-10 Batch 1:  Loss: 2.111879 Training Accuracy: 0.2550 Validation Accuracy: 0.2052\n",
      "Epoch  7, CIFAR-10 Batch 1:  Loss: 2.087332 Training Accuracy: 0.2228 Validation Accuracy: 0.2074\n",
      "Epoch  8, CIFAR-10 Batch 1:  Loss: 2.014515 Training Accuracy: 0.2611 Validation Accuracy: 0.2254\n",
      "Epoch  9, CIFAR-10 Batch 1:  Loss: 1.960094 Training Accuracy: 0.3094 Validation Accuracy: 0.2510\n",
      "Epoch 10, CIFAR-10 Batch 1:  Loss: 1.948684 Training Accuracy: 0.3131 Validation Accuracy: 0.2814\n",
      "Epoch 11, CIFAR-10 Batch 1:  Loss: 1.961433 Training Accuracy: 0.3218 Validation Accuracy: 0.2714\n",
      "Epoch 12, CIFAR-10 Batch 1:  Loss: 1.953835 Training Accuracy: 0.3193 Validation Accuracy: 0.2854\n",
      "Epoch 13, CIFAR-10 Batch 1:  Loss: 1.939096 Training Accuracy: 0.3144 Validation Accuracy: 0.3008\n",
      "Epoch 14, CIFAR-10 Batch 1:  Loss: 1.913379 Training Accuracy: 0.3391 Validation Accuracy: 0.3034\n",
      "Epoch 15, CIFAR-10 Batch 1:  Loss: 1.866166 Training Accuracy: 0.3577 Validation Accuracy: 0.3146\n",
      "Epoch 16, CIFAR-10 Batch 1:  Loss: 1.833413 Training Accuracy: 0.3824 Validation Accuracy: 0.3154\n",
      "Epoch 17, CIFAR-10 Batch 1:  Loss: 1.785983 Training Accuracy: 0.3837 Validation Accuracy: 0.3308\n",
      "Epoch 18, CIFAR-10 Batch 1:  Loss: 1.757834 Training Accuracy: 0.3948 Validation Accuracy: 0.3360\n",
      "Epoch 19, CIFAR-10 Batch 1:  Loss: 1.722914 Training Accuracy: 0.4183 Validation Accuracy: 0.3442\n",
      "Epoch 20, CIFAR-10 Batch 1:  Loss: 1.689805 Training Accuracy: 0.4282 Validation Accuracy: 0.3564\n",
      "Epoch 21, CIFAR-10 Batch 1:  Loss: 1.660494 Training Accuracy: 0.4394 Validation Accuracy: 0.3694\n",
      "Epoch 22, CIFAR-10 Batch 1:  Loss: 1.643524 Training Accuracy: 0.4455 Validation Accuracy: 0.3700\n",
      "Epoch 23, CIFAR-10 Batch 1:  Loss: 1.619491 Training Accuracy: 0.4505 Validation Accuracy: 0.3796\n",
      "Epoch 24, CIFAR-10 Batch 1:  Loss: 1.588383 Training Accuracy: 0.4752 Validation Accuracy: 0.3786\n",
      "Epoch 25, CIFAR-10 Batch 1:  Loss: 1.562340 Training Accuracy: 0.5062 Validation Accuracy: 0.3822\n",
      "Epoch 26, CIFAR-10 Batch 1:  Loss: 1.531251 Training Accuracy: 0.5025 Validation Accuracy: 0.3890\n",
      "Epoch 27, CIFAR-10 Batch 1:  Loss: 1.495188 Training Accuracy: 0.5186 Validation Accuracy: 0.4036\n",
      "Epoch 28, CIFAR-10 Batch 1:  Loss: 1.469861 Training Accuracy: 0.5198 Validation Accuracy: 0.4030\n",
      "Epoch 29, CIFAR-10 Batch 1:  Loss: 1.444170 Training Accuracy: 0.5260 Validation Accuracy: 0.4078\n",
      "Epoch 30, CIFAR-10 Batch 1:  Loss: 1.418374 Training Accuracy: 0.5334 Validation Accuracy: 0.4132\n",
      "Epoch 31, CIFAR-10 Batch 1:  Loss: 1.377686 Training Accuracy: 0.5545 Validation Accuracy: 0.4222\n",
      "Epoch 32, CIFAR-10 Batch 1:  Loss: 1.351103 Training Accuracy: 0.5619 Validation Accuracy: 0.4222\n",
      "Epoch 33, CIFAR-10 Batch 1:  Loss: 1.325251 Training Accuracy: 0.5767 Validation Accuracy: 0.4236\n",
      "Epoch 34, CIFAR-10 Batch 1:  Loss: 1.298388 Training Accuracy: 0.5829 Validation Accuracy: 0.4314\n",
      "Epoch 35, CIFAR-10 Batch 1:  Loss: 1.275170 Training Accuracy: 0.6040 Validation Accuracy: 0.4328\n",
      "Epoch 36, CIFAR-10 Batch 1:  Loss: 1.242741 Training Accuracy: 0.6040 Validation Accuracy: 0.4410\n",
      "Epoch 37, CIFAR-10 Batch 1:  Loss: 1.217971 Training Accuracy: 0.6151 Validation Accuracy: 0.4380\n",
      "Epoch 38, CIFAR-10 Batch 1:  Loss: 1.182282 Training Accuracy: 0.6139 Validation Accuracy: 0.4442\n",
      "Epoch 39, CIFAR-10 Batch 1:  Loss: 1.153821 Training Accuracy: 0.6262 Validation Accuracy: 0.4528\n",
      "Epoch 40, CIFAR-10 Batch 1:  Loss: 1.129388 Training Accuracy: 0.6423 Validation Accuracy: 0.4542\n",
      "Epoch 41, CIFAR-10 Batch 1:  Loss: 1.110396 Training Accuracy: 0.6609 Validation Accuracy: 0.4488\n",
      "Epoch 42, CIFAR-10 Batch 1:  Loss: 1.079421 Training Accuracy: 0.6634 Validation Accuracy: 0.4576\n",
      "Epoch 43, CIFAR-10 Batch 1:  Loss: 1.061705 Training Accuracy: 0.6757 Validation Accuracy: 0.4638\n",
      "Epoch 44, CIFAR-10 Batch 1:  Loss: 1.036626 Training Accuracy: 0.6856 Validation Accuracy: 0.4592\n",
      "Epoch 45, CIFAR-10 Batch 1:  Loss: 1.012154 Training Accuracy: 0.7017 Validation Accuracy: 0.4652\n",
      "Epoch 46, CIFAR-10 Batch 1:  Loss: 0.993848 Training Accuracy: 0.7030 Validation Accuracy: 0.4652\n",
      "Epoch 47, CIFAR-10 Batch 1:  Loss: 0.973620 Training Accuracy: 0.7178 Validation Accuracy: 0.4742\n",
      "Epoch 48, CIFAR-10 Batch 1:  Loss: 0.940347 Training Accuracy: 0.7079 Validation Accuracy: 0.4716\n",
      "Epoch 49, CIFAR-10 Batch 1:  Loss: 0.920518 Training Accuracy: 0.7302 Validation Accuracy: 0.4722\n",
      "Epoch 50, CIFAR-10 Batch 1:  Loss: 0.903633 Training Accuracy: 0.7389 Validation Accuracy: 0.4750\n",
      "Epoch 51, CIFAR-10 Batch 1:  Loss: 0.880294 Training Accuracy: 0.7364 Validation Accuracy: 0.4752\n",
      "Epoch 52, CIFAR-10 Batch 1:  Loss: 0.858715 Training Accuracy: 0.7587 Validation Accuracy: 0.4882\n",
      "Epoch 53, CIFAR-10 Batch 1:  Loss: 0.840096 Training Accuracy: 0.7661 Validation Accuracy: 0.4802\n",
      "Epoch 54, CIFAR-10 Batch 1:  Loss: 0.820359 Training Accuracy: 0.7785 Validation Accuracy: 0.4888\n",
      "Epoch 55, CIFAR-10 Batch 1:  Loss: 0.792114 Training Accuracy: 0.7809 Validation Accuracy: 0.4852\n",
      "Epoch 56, CIFAR-10 Batch 1:  Loss: 0.783335 Training Accuracy: 0.7933 Validation Accuracy: 0.4884\n",
      "Epoch 57, CIFAR-10 Batch 1:  Loss: 0.762399 Training Accuracy: 0.7933 Validation Accuracy: 0.4870\n",
      "Epoch 58, CIFAR-10 Batch 1:  Loss: 0.751681 Training Accuracy: 0.8106 Validation Accuracy: 0.4870\n",
      "Epoch 59, CIFAR-10 Batch 1:  Loss: 0.721824 Training Accuracy: 0.8168 Validation Accuracy: 0.4940\n",
      "Epoch 60, CIFAR-10 Batch 1:  Loss: 0.700632 Training Accuracy: 0.8280 Validation Accuracy: 0.4944\n",
      "Epoch 61, CIFAR-10 Batch 1:  Loss: 0.694633 Training Accuracy: 0.8280 Validation Accuracy: 0.4968\n",
      "Epoch 62, CIFAR-10 Batch 1:  Loss: 0.678551 Training Accuracy: 0.8329 Validation Accuracy: 0.4972\n",
      "Epoch 63, CIFAR-10 Batch 1:  Loss: 0.661359 Training Accuracy: 0.8428 Validation Accuracy: 0.4984\n",
      "Epoch 64, CIFAR-10 Batch 1:  Loss: 0.643179 Training Accuracy: 0.8577 Validation Accuracy: 0.4950\n",
      "Epoch 65, CIFAR-10 Batch 1:  Loss: 0.629943 Training Accuracy: 0.8540 Validation Accuracy: 0.5034\n",
      "Epoch 66, CIFAR-10 Batch 1:  Loss: 0.617913 Training Accuracy: 0.8564 Validation Accuracy: 0.5048\n",
      "Epoch 67, CIFAR-10 Batch 1:  Loss: 0.592342 Training Accuracy: 0.8738 Validation Accuracy: 0.5036\n",
      "Epoch 68, CIFAR-10 Batch 1:  Loss: 0.581291 Training Accuracy: 0.8762 Validation Accuracy: 0.4996\n",
      "Epoch 69, CIFAR-10 Batch 1:  Loss: 0.569666 Training Accuracy: 0.8800 Validation Accuracy: 0.5060\n",
      "Epoch 70, CIFAR-10 Batch 1:  Loss: 0.561439 Training Accuracy: 0.8824 Validation Accuracy: 0.5064\n"
     ]
    }
   ],
   "source": [
    "\"\"\"\n",
    "DON'T MODIFY ANYTHING IN THIS CELL\n",
    "\"\"\"\n",
    "print('Checking the Training on a Single Batch...')\n",
    "with tf.Session() as sess:\n",
    "    # Initializing the variables\n",
    "    sess.run(tf.global_variables_initializer())\n",
    "    \n",
    "    # Training cycle\n",
    "    for epoch in range(epochs):\n",
    "        batch_i = 1\n",
    "        for batch_features, batch_labels in helper.load_preprocess_training_batch(batch_i, batch_size):\n",
    "            train_neural_network(sess, optimizer, keep_probability, batch_features, batch_labels)\n",
    "        print('Epoch {:>2}, CIFAR-10 Batch {}:  '.format(epoch + 1, batch_i), end='')\n",
    "        print_stats(sess, batch_features, batch_labels, cost, accuracy)"
   ]
  },
  {
   "cell_type": "markdown",
   "metadata": {},
   "source": [
    "### Fully Train the Model\n",
    "Now that you got a good accuracy with a single CIFAR-10 batch, try it with all five batches."
   ]
  },
  {
   "cell_type": "code",
   "execution_count": 17,
   "metadata": {
    "collapsed": false
   },
   "outputs": [
    {
     "name": "stdout",
     "output_type": "stream",
     "text": [
      "Training...\n",
      "Epoch  1, CIFAR-10 Batch 1:  Loss: 29.027721 Training Accuracy: 0.1324 Validation Accuracy: 0.1324\n",
      "Epoch  1, CIFAR-10 Batch 2:  Loss: 12.377590 Training Accuracy: 0.1176 Validation Accuracy: 0.1172\n",
      "Epoch  1, CIFAR-10 Batch 3:  Loss: 3.717221 Training Accuracy: 0.1547 Validation Accuracy: 0.1356\n",
      "Epoch  1, CIFAR-10 Batch 4:  Loss: 4.597437 Training Accuracy: 0.0941 Validation Accuracy: 0.1064\n",
      "Epoch  1, CIFAR-10 Batch 5:  Loss: 2.942340 Training Accuracy: 0.1621 Validation Accuracy: 0.1620\n",
      "Epoch  2, CIFAR-10 Batch 1:  Loss: 2.813092 Training Accuracy: 0.1386 Validation Accuracy: 0.1268\n",
      "Epoch  2, CIFAR-10 Batch 2:  Loss: 2.241250 Training Accuracy: 0.1844 Validation Accuracy: 0.1884\n",
      "Epoch  2, CIFAR-10 Batch 3:  Loss: 2.158926 Training Accuracy: 0.2017 Validation Accuracy: 0.2146\n",
      "Epoch  2, CIFAR-10 Batch 4:  Loss: 2.103554 Training Accuracy: 0.2240 Validation Accuracy: 0.2154\n",
      "Epoch  2, CIFAR-10 Batch 5:  Loss: 2.096689 Training Accuracy: 0.2129 Validation Accuracy: 0.2346\n",
      "Epoch  3, CIFAR-10 Batch 1:  Loss: 2.087191 Training Accuracy: 0.2450 Validation Accuracy: 0.2420\n",
      "Epoch  3, CIFAR-10 Batch 2:  Loss: 2.011909 Training Accuracy: 0.2797 Validation Accuracy: 0.2600\n",
      "Epoch  3, CIFAR-10 Batch 3:  Loss: 2.012516 Training Accuracy: 0.2574 Validation Accuracy: 0.2698\n",
      "Epoch  3, CIFAR-10 Batch 4:  Loss: 1.948323 Training Accuracy: 0.3032 Validation Accuracy: 0.2726\n",
      "Epoch  3, CIFAR-10 Batch 5:  Loss: 1.995406 Training Accuracy: 0.2970 Validation Accuracy: 0.2784\n",
      "Epoch  4, CIFAR-10 Batch 1:  Loss: 1.958745 Training Accuracy: 0.3045 Validation Accuracy: 0.2958\n",
      "Epoch  4, CIFAR-10 Batch 2:  Loss: 1.922153 Training Accuracy: 0.3230 Validation Accuracy: 0.3066\n",
      "Epoch  4, CIFAR-10 Batch 3:  Loss: 1.901182 Training Accuracy: 0.3181 Validation Accuracy: 0.3150\n",
      "Epoch  4, CIFAR-10 Batch 4:  Loss: 1.843786 Training Accuracy: 0.3391 Validation Accuracy: 0.3250\n",
      "Epoch  4, CIFAR-10 Batch 5:  Loss: 1.894564 Training Accuracy: 0.3379 Validation Accuracy: 0.3278\n",
      "Epoch  5, CIFAR-10 Batch 1:  Loss: 1.846732 Training Accuracy: 0.3540 Validation Accuracy: 0.3284\n",
      "Epoch  5, CIFAR-10 Batch 2:  Loss: 1.815012 Training Accuracy: 0.3502 Validation Accuracy: 0.3402\n",
      "Epoch  5, CIFAR-10 Batch 3:  Loss: 1.785826 Training Accuracy: 0.3762 Validation Accuracy: 0.3562\n",
      "Epoch  5, CIFAR-10 Batch 4:  Loss: 1.754341 Training Accuracy: 0.3837 Validation Accuracy: 0.3642\n",
      "Epoch  5, CIFAR-10 Batch 5:  Loss: 1.798789 Training Accuracy: 0.3663 Validation Accuracy: 0.3726\n",
      "Epoch  6, CIFAR-10 Batch 1:  Loss: 1.772272 Training Accuracy: 0.3812 Validation Accuracy: 0.3792\n",
      "Epoch  6, CIFAR-10 Batch 2:  Loss: 1.722364 Training Accuracy: 0.3923 Validation Accuracy: 0.3832\n",
      "Epoch  6, CIFAR-10 Batch 3:  Loss: 1.702076 Training Accuracy: 0.4059 Validation Accuracy: 0.3872\n",
      "Epoch  6, CIFAR-10 Batch 4:  Loss: 1.674912 Training Accuracy: 0.3948 Validation Accuracy: 0.3836\n",
      "Epoch  6, CIFAR-10 Batch 5:  Loss: 1.711048 Training Accuracy: 0.4059 Validation Accuracy: 0.3936\n",
      "Epoch  7, CIFAR-10 Batch 1:  Loss: 1.682132 Training Accuracy: 0.4220 Validation Accuracy: 0.3986\n",
      "Epoch  7, CIFAR-10 Batch 2:  Loss: 1.633249 Training Accuracy: 0.4183 Validation Accuracy: 0.3984\n",
      "Epoch  7, CIFAR-10 Batch 3:  Loss: 1.624213 Training Accuracy: 0.4332 Validation Accuracy: 0.4068\n",
      "Epoch  7, CIFAR-10 Batch 4:  Loss: 1.596787 Training Accuracy: 0.4406 Validation Accuracy: 0.4144\n",
      "Epoch  7, CIFAR-10 Batch 5:  Loss: 1.641123 Training Accuracy: 0.4431 Validation Accuracy: 0.4194\n",
      "Epoch  8, CIFAR-10 Batch 1:  Loss: 1.613452 Training Accuracy: 0.4208 Validation Accuracy: 0.4174\n",
      "Epoch  8, CIFAR-10 Batch 2:  Loss: 1.565244 Training Accuracy: 0.4307 Validation Accuracy: 0.4220\n",
      "Epoch  8, CIFAR-10 Batch 3:  Loss: 1.529393 Training Accuracy: 0.4592 Validation Accuracy: 0.4262\n",
      "Epoch  8, CIFAR-10 Batch 4:  Loss: 1.529694 Training Accuracy: 0.4641 Validation Accuracy: 0.4278\n",
      "Epoch  8, CIFAR-10 Batch 5:  Loss: 1.554669 Training Accuracy: 0.4901 Validation Accuracy: 0.4330\n",
      "Epoch  9, CIFAR-10 Batch 1:  Loss: 1.553299 Training Accuracy: 0.4455 Validation Accuracy: 0.4390\n",
      "Epoch  9, CIFAR-10 Batch 2:  Loss: 1.508910 Training Accuracy: 0.4666 Validation Accuracy: 0.4388\n",
      "Epoch  9, CIFAR-10 Batch 3:  Loss: 1.471816 Training Accuracy: 0.4938 Validation Accuracy: 0.4492\n",
      "Epoch  9, CIFAR-10 Batch 4:  Loss: 1.447402 Training Accuracy: 0.4814 Validation Accuracy: 0.4474\n",
      "Epoch  9, CIFAR-10 Batch 5:  Loss: 1.495968 Training Accuracy: 0.5099 Validation Accuracy: 0.4500\n",
      "Epoch 10, CIFAR-10 Batch 1:  Loss: 1.498724 Training Accuracy: 0.4728 Validation Accuracy: 0.4528\n",
      "Epoch 10, CIFAR-10 Batch 2:  Loss: 1.425855 Training Accuracy: 0.4938 Validation Accuracy: 0.4570\n",
      "Epoch 10, CIFAR-10 Batch 3:  Loss: 1.430329 Training Accuracy: 0.5050 Validation Accuracy: 0.4482\n",
      "Epoch 10, CIFAR-10 Batch 4:  Loss: 1.400934 Training Accuracy: 0.4963 Validation Accuracy: 0.4666\n",
      "Epoch 10, CIFAR-10 Batch 5:  Loss: 1.438124 Training Accuracy: 0.5347 Validation Accuracy: 0.4666\n",
      "Epoch 11, CIFAR-10 Batch 1:  Loss: 1.480639 Training Accuracy: 0.4876 Validation Accuracy: 0.4620\n",
      "Epoch 11, CIFAR-10 Batch 2:  Loss: 1.389351 Training Accuracy: 0.5012 Validation Accuracy: 0.4716\n",
      "Epoch 11, CIFAR-10 Batch 3:  Loss: 1.361674 Training Accuracy: 0.5025 Validation Accuracy: 0.4706\n",
      "Epoch 11, CIFAR-10 Batch 4:  Loss: 1.358605 Training Accuracy: 0.5210 Validation Accuracy: 0.4732\n",
      "Epoch 11, CIFAR-10 Batch 5:  Loss: 1.393683 Training Accuracy: 0.5520 Validation Accuracy: 0.4760\n",
      "Epoch 12, CIFAR-10 Batch 1:  Loss: 1.396962 Training Accuracy: 0.5161 Validation Accuracy: 0.4782\n",
      "Epoch 12, CIFAR-10 Batch 2:  Loss: 1.330358 Training Accuracy: 0.5285 Validation Accuracy: 0.4744\n",
      "Epoch 12, CIFAR-10 Batch 3:  Loss: 1.319508 Training Accuracy: 0.5186 Validation Accuracy: 0.4796\n",
      "Epoch 12, CIFAR-10 Batch 4:  Loss: 1.297173 Training Accuracy: 0.5371 Validation Accuracy: 0.4874\n",
      "Epoch 12, CIFAR-10 Batch 5:  Loss: 1.347034 Training Accuracy: 0.5545 Validation Accuracy: 0.4826\n",
      "Epoch 13, CIFAR-10 Batch 1:  Loss: 1.360888 Training Accuracy: 0.5285 Validation Accuracy: 0.4876\n",
      "Epoch 13, CIFAR-10 Batch 2:  Loss: 1.315488 Training Accuracy: 0.5408 Validation Accuracy: 0.4826\n",
      "Epoch 13, CIFAR-10 Batch 3:  Loss: 1.273035 Training Accuracy: 0.5359 Validation Accuracy: 0.4878\n",
      "Epoch 13, CIFAR-10 Batch 4:  Loss: 1.264104 Training Accuracy: 0.5594 Validation Accuracy: 0.4896\n",
      "Epoch 13, CIFAR-10 Batch 5:  Loss: 1.301354 Training Accuracy: 0.5780 Validation Accuracy: 0.4944\n",
      "Epoch 14, CIFAR-10 Batch 1:  Loss: 1.327398 Training Accuracy: 0.5347 Validation Accuracy: 0.4950\n",
      "Epoch 14, CIFAR-10 Batch 2:  Loss: 1.282329 Training Accuracy: 0.5520 Validation Accuracy: 0.4928\n",
      "Epoch 14, CIFAR-10 Batch 3:  Loss: 1.248186 Training Accuracy: 0.5644 Validation Accuracy: 0.4932\n",
      "Epoch 14, CIFAR-10 Batch 4:  Loss: 1.236293 Training Accuracy: 0.5705 Validation Accuracy: 0.4870\n",
      "Epoch 14, CIFAR-10 Batch 5:  Loss: 1.252488 Training Accuracy: 0.5879 Validation Accuracy: 0.4990\n",
      "Epoch 15, CIFAR-10 Batch 1:  Loss: 1.278755 Training Accuracy: 0.5619 Validation Accuracy: 0.5012\n",
      "Epoch 15, CIFAR-10 Batch 2:  Loss: 1.238703 Training Accuracy: 0.5903 Validation Accuracy: 0.4970\n",
      "Epoch 15, CIFAR-10 Batch 3:  Loss: 1.212848 Training Accuracy: 0.5619 Validation Accuracy: 0.5060\n",
      "Epoch 15, CIFAR-10 Batch 4:  Loss: 1.188506 Training Accuracy: 0.5842 Validation Accuracy: 0.5004\n",
      "Epoch 15, CIFAR-10 Batch 5:  Loss: 1.227350 Training Accuracy: 0.6015 Validation Accuracy: 0.5124\n",
      "Epoch 16, CIFAR-10 Batch 1:  Loss: 1.255651 Training Accuracy: 0.5718 Validation Accuracy: 0.5110\n",
      "Epoch 16, CIFAR-10 Batch 2:  Loss: 1.209433 Training Accuracy: 0.5854 Validation Accuracy: 0.4986\n",
      "Epoch 16, CIFAR-10 Batch 3:  Loss: 1.184454 Training Accuracy: 0.5767 Validation Accuracy: 0.5036\n",
      "Epoch 16, CIFAR-10 Batch 4:  Loss: 1.175184 Training Accuracy: 0.6052 Validation Accuracy: 0.4998\n",
      "Epoch 16, CIFAR-10 Batch 5:  Loss: 1.180921 Training Accuracy: 0.6176 Validation Accuracy: 0.5100\n",
      "Epoch 17, CIFAR-10 Batch 1:  Loss: 1.206740 Training Accuracy: 0.5842 Validation Accuracy: 0.5032\n",
      "Epoch 17, CIFAR-10 Batch 2:  Loss: 1.178533 Training Accuracy: 0.6002 Validation Accuracy: 0.5064\n",
      "Epoch 17, CIFAR-10 Batch 3:  Loss: 1.141453 Training Accuracy: 0.6002 Validation Accuracy: 0.5122\n",
      "Epoch 17, CIFAR-10 Batch 4:  Loss: 1.120831 Training Accuracy: 0.6114 Validation Accuracy: 0.5154\n",
      "Epoch 17, CIFAR-10 Batch 5:  Loss: 1.162947 Training Accuracy: 0.6262 Validation Accuracy: 0.5144\n",
      "Epoch 18, CIFAR-10 Batch 1:  Loss: 1.177670 Training Accuracy: 0.6126 Validation Accuracy: 0.5106\n",
      "Epoch 18, CIFAR-10 Batch 2:  Loss: 1.143583 Training Accuracy: 0.6238 Validation Accuracy: 0.5136\n",
      "Epoch 18, CIFAR-10 Batch 3:  Loss: 1.113662 Training Accuracy: 0.6089 Validation Accuracy: 0.5192\n",
      "Epoch 18, CIFAR-10 Batch 4:  Loss: 1.103787 Training Accuracy: 0.6200 Validation Accuracy: 0.5030\n",
      "Epoch 18, CIFAR-10 Batch 5:  Loss: 1.122746 Training Accuracy: 0.6374 Validation Accuracy: 0.5226\n",
      "Epoch 19, CIFAR-10 Batch 1:  Loss: 1.164381 Training Accuracy: 0.6238 Validation Accuracy: 0.5154\n",
      "Epoch 19, CIFAR-10 Batch 2:  Loss: 1.111886 Training Accuracy: 0.6262 Validation Accuracy: 0.5228\n",
      "Epoch 19, CIFAR-10 Batch 3:  Loss: 1.066828 Training Accuracy: 0.6225 Validation Accuracy: 0.5202\n",
      "Epoch 19, CIFAR-10 Batch 4:  Loss: 1.055715 Training Accuracy: 0.6460 Validation Accuracy: 0.5206\n",
      "Epoch 19, CIFAR-10 Batch 5:  Loss: 1.094708 Training Accuracy: 0.6485 Validation Accuracy: 0.5274\n",
      "Epoch 20, CIFAR-10 Batch 1:  Loss: 1.116091 Training Accuracy: 0.6250 Validation Accuracy: 0.5242\n",
      "Epoch 20, CIFAR-10 Batch 2:  Loss: 1.082202 Training Accuracy: 0.6386 Validation Accuracy: 0.5200\n",
      "Epoch 20, CIFAR-10 Batch 3:  Loss: 1.073342 Training Accuracy: 0.6139 Validation Accuracy: 0.5298\n",
      "Epoch 20, CIFAR-10 Batch 4:  Loss: 1.034421 Training Accuracy: 0.6535 Validation Accuracy: 0.5286\n",
      "Epoch 20, CIFAR-10 Batch 5:  Loss: 1.057855 Training Accuracy: 0.6473 Validation Accuracy: 0.5294\n",
      "Epoch 21, CIFAR-10 Batch 1:  Loss: 1.118533 Training Accuracy: 0.6300 Validation Accuracy: 0.5198\n",
      "Epoch 21, CIFAR-10 Batch 2:  Loss: 1.074038 Training Accuracy: 0.6423 Validation Accuracy: 0.5300\n",
      "Epoch 21, CIFAR-10 Batch 3:  Loss: 1.032530 Training Accuracy: 0.6386 Validation Accuracy: 0.5264\n",
      "Epoch 21, CIFAR-10 Batch 4:  Loss: 1.030979 Training Accuracy: 0.6572 Validation Accuracy: 0.5212\n",
      "Epoch 21, CIFAR-10 Batch 5:  Loss: 1.026403 Training Accuracy: 0.6720 Validation Accuracy: 0.5352\n",
      "Epoch 22, CIFAR-10 Batch 1:  Loss: 1.066715 Training Accuracy: 0.6436 Validation Accuracy: 0.5320\n",
      "Epoch 22, CIFAR-10 Batch 2:  Loss: 1.037453 Training Accuracy: 0.6671 Validation Accuracy: 0.5330\n",
      "Epoch 22, CIFAR-10 Batch 3:  Loss: 0.992060 Training Accuracy: 0.6436 Validation Accuracy: 0.5354\n",
      "Epoch 22, CIFAR-10 Batch 4:  Loss: 0.992481 Training Accuracy: 0.6807 Validation Accuracy: 0.5284\n",
      "Epoch 22, CIFAR-10 Batch 5:  Loss: 0.998348 Training Accuracy: 0.6918 Validation Accuracy: 0.5428\n",
      "Epoch 23, CIFAR-10 Batch 1:  Loss: 1.050648 Training Accuracy: 0.6349 Validation Accuracy: 0.5324\n",
      "Epoch 23, CIFAR-10 Batch 2:  Loss: 1.032765 Training Accuracy: 0.6782 Validation Accuracy: 0.5336\n",
      "Epoch 23, CIFAR-10 Batch 3:  Loss: 0.981132 Training Accuracy: 0.6683 Validation Accuracy: 0.5390\n",
      "Epoch 23, CIFAR-10 Batch 4:  Loss: 0.954396 Training Accuracy: 0.6671 Validation Accuracy: 0.5406\n",
      "Epoch 23, CIFAR-10 Batch 5:  Loss: 0.974048 Training Accuracy: 0.6968 Validation Accuracy: 0.5334\n",
      "Epoch 24, CIFAR-10 Batch 1:  Loss: 1.019918 Training Accuracy: 0.6671 Validation Accuracy: 0.5354\n",
      "Epoch 24, CIFAR-10 Batch 2:  Loss: 0.979614 Training Accuracy: 0.6832 Validation Accuracy: 0.5374\n",
      "Epoch 24, CIFAR-10 Batch 3:  Loss: 0.947586 Training Accuracy: 0.6782 Validation Accuracy: 0.5412\n",
      "Epoch 24, CIFAR-10 Batch 4:  Loss: 0.911028 Training Accuracy: 0.6980 Validation Accuracy: 0.5410\n",
      "Epoch 24, CIFAR-10 Batch 5:  Loss: 0.934595 Training Accuracy: 0.6931 Validation Accuracy: 0.5452\n",
      "Epoch 25, CIFAR-10 Batch 1:  Loss: 0.983006 Training Accuracy: 0.6807 Validation Accuracy: 0.5444\n",
      "Epoch 25, CIFAR-10 Batch 2:  Loss: 0.950321 Training Accuracy: 0.6993 Validation Accuracy: 0.5470\n",
      "Epoch 25, CIFAR-10 Batch 3:  Loss: 0.917889 Training Accuracy: 0.6894 Validation Accuracy: 0.5444\n",
      "Epoch 25, CIFAR-10 Batch 4:  Loss: 0.900499 Training Accuracy: 0.7141 Validation Accuracy: 0.5504\n",
      "Epoch 25, CIFAR-10 Batch 5:  Loss: 0.911687 Training Accuracy: 0.6955 Validation Accuracy: 0.5500\n",
      "Epoch 26, CIFAR-10 Batch 1:  Loss: 0.955828 Training Accuracy: 0.6819 Validation Accuracy: 0.5478\n",
      "Epoch 26, CIFAR-10 Batch 2:  Loss: 0.942079 Training Accuracy: 0.6931 Validation Accuracy: 0.5462\n",
      "Epoch 26, CIFAR-10 Batch 3:  Loss: 0.890828 Training Accuracy: 0.7030 Validation Accuracy: 0.5468\n",
      "Epoch 26, CIFAR-10 Batch 4:  Loss: 0.872726 Training Accuracy: 0.7166 Validation Accuracy: 0.5476\n",
      "Epoch 26, CIFAR-10 Batch 5:  Loss: 0.901815 Training Accuracy: 0.7265 Validation Accuracy: 0.5524\n",
      "Epoch 27, CIFAR-10 Batch 1:  Loss: 0.924115 Training Accuracy: 0.7079 Validation Accuracy: 0.5454\n",
      "Epoch 27, CIFAR-10 Batch 2:  Loss: 0.931060 Training Accuracy: 0.7042 Validation Accuracy: 0.5468\n",
      "Epoch 27, CIFAR-10 Batch 3:  Loss: 0.893453 Training Accuracy: 0.7092 Validation Accuracy: 0.5482\n",
      "Epoch 27, CIFAR-10 Batch 4:  Loss: 0.861800 Training Accuracy: 0.7141 Validation Accuracy: 0.5486\n",
      "Epoch 27, CIFAR-10 Batch 5:  Loss: 0.869282 Training Accuracy: 0.7191 Validation Accuracy: 0.5496\n",
      "Epoch 28, CIFAR-10 Batch 1:  Loss: 0.913206 Training Accuracy: 0.7116 Validation Accuracy: 0.5548\n",
      "Epoch 28, CIFAR-10 Batch 2:  Loss: 0.911996 Training Accuracy: 0.7215 Validation Accuracy: 0.5488\n",
      "Epoch 28, CIFAR-10 Batch 3:  Loss: 0.859174 Training Accuracy: 0.7079 Validation Accuracy: 0.5530\n",
      "Epoch 28, CIFAR-10 Batch 4:  Loss: 0.824624 Training Accuracy: 0.7265 Validation Accuracy: 0.5544\n",
      "Epoch 28, CIFAR-10 Batch 5:  Loss: 0.843047 Training Accuracy: 0.7339 Validation Accuracy: 0.5558\n",
      "Epoch 29, CIFAR-10 Batch 1:  Loss: 0.889310 Training Accuracy: 0.7252 Validation Accuracy: 0.5564\n",
      "Epoch 29, CIFAR-10 Batch 2:  Loss: 0.868690 Training Accuracy: 0.7401 Validation Accuracy: 0.5552\n",
      "Epoch 29, CIFAR-10 Batch 3:  Loss: 0.829801 Training Accuracy: 0.7364 Validation Accuracy: 0.5610\n",
      "Epoch 29, CIFAR-10 Batch 4:  Loss: 0.811823 Training Accuracy: 0.7228 Validation Accuracy: 0.5606\n",
      "Epoch 29, CIFAR-10 Batch 5:  Loss: 0.805802 Training Accuracy: 0.7351 Validation Accuracy: 0.5558\n",
      "Epoch 30, CIFAR-10 Batch 1:  Loss: 0.867006 Training Accuracy: 0.7351 Validation Accuracy: 0.5606\n",
      "Epoch 30, CIFAR-10 Batch 2:  Loss: 0.855493 Training Accuracy: 0.7277 Validation Accuracy: 0.5562\n",
      "Epoch 30, CIFAR-10 Batch 3:  Loss: 0.801831 Training Accuracy: 0.7314 Validation Accuracy: 0.5624\n",
      "Epoch 30, CIFAR-10 Batch 4:  Loss: 0.781471 Training Accuracy: 0.7525 Validation Accuracy: 0.5602\n",
      "Epoch 30, CIFAR-10 Batch 5:  Loss: 0.792475 Training Accuracy: 0.7500 Validation Accuracy: 0.5608\n",
      "Epoch 31, CIFAR-10 Batch 1:  Loss: 0.842375 Training Accuracy: 0.7389 Validation Accuracy: 0.5602\n",
      "Epoch 31, CIFAR-10 Batch 2:  Loss: 0.832316 Training Accuracy: 0.7450 Validation Accuracy: 0.5550\n",
      "Epoch 31, CIFAR-10 Batch 3:  Loss: 0.784177 Training Accuracy: 0.7475 Validation Accuracy: 0.5680\n",
      "Epoch 31, CIFAR-10 Batch 4:  Loss: 0.772025 Training Accuracy: 0.7537 Validation Accuracy: 0.5670\n",
      "Epoch 31, CIFAR-10 Batch 5:  Loss: 0.766000 Training Accuracy: 0.7599 Validation Accuracy: 0.5656\n",
      "Epoch 32, CIFAR-10 Batch 1:  Loss: 0.820634 Training Accuracy: 0.7450 Validation Accuracy: 0.5580\n",
      "Epoch 32, CIFAR-10 Batch 2:  Loss: 0.832229 Training Accuracy: 0.7500 Validation Accuracy: 0.5608\n",
      "Epoch 32, CIFAR-10 Batch 3:  Loss: 0.780304 Training Accuracy: 0.7426 Validation Accuracy: 0.5636\n",
      "Epoch 32, CIFAR-10 Batch 4:  Loss: 0.746697 Training Accuracy: 0.7661 Validation Accuracy: 0.5632\n",
      "Epoch 32, CIFAR-10 Batch 5:  Loss: 0.758033 Training Accuracy: 0.7686 Validation Accuracy: 0.5648\n",
      "Epoch 33, CIFAR-10 Batch 1:  Loss: 0.815235 Training Accuracy: 0.7525 Validation Accuracy: 0.5728\n",
      "Epoch 33, CIFAR-10 Batch 2:  Loss: 0.777961 Training Accuracy: 0.7686 Validation Accuracy: 0.5644\n",
      "Epoch 33, CIFAR-10 Batch 3:  Loss: 0.760212 Training Accuracy: 0.7723 Validation Accuracy: 0.5702\n",
      "Epoch 33, CIFAR-10 Batch 4:  Loss: 0.719086 Training Accuracy: 0.7710 Validation Accuracy: 0.5682\n",
      "Epoch 33, CIFAR-10 Batch 5:  Loss: 0.729682 Training Accuracy: 0.7698 Validation Accuracy: 0.5648\n",
      "Epoch 34, CIFAR-10 Batch 1:  Loss: 0.794072 Training Accuracy: 0.7636 Validation Accuracy: 0.5710\n",
      "Epoch 34, CIFAR-10 Batch 2:  Loss: 0.768721 Training Accuracy: 0.7475 Validation Accuracy: 0.5670\n",
      "Epoch 34, CIFAR-10 Batch 3:  Loss: 0.726832 Training Accuracy: 0.7649 Validation Accuracy: 0.5656\n",
      "Epoch 34, CIFAR-10 Batch 4:  Loss: 0.720519 Training Accuracy: 0.7859 Validation Accuracy: 0.5714\n",
      "Epoch 34, CIFAR-10 Batch 5:  Loss: 0.714642 Training Accuracy: 0.7785 Validation Accuracy: 0.5690\n",
      "Epoch 35, CIFAR-10 Batch 1:  Loss: 0.755400 Training Accuracy: 0.7673 Validation Accuracy: 0.5728\n",
      "Epoch 35, CIFAR-10 Batch 2:  Loss: 0.743835 Training Accuracy: 0.7686 Validation Accuracy: 0.5738\n",
      "Epoch 35, CIFAR-10 Batch 3:  Loss: 0.707242 Training Accuracy: 0.7748 Validation Accuracy: 0.5702\n",
      "Epoch 35, CIFAR-10 Batch 4:  Loss: 0.684332 Training Accuracy: 0.8007 Validation Accuracy: 0.5712\n",
      "Epoch 35, CIFAR-10 Batch 5:  Loss: 0.698892 Training Accuracy: 0.7884 Validation Accuracy: 0.5716\n",
      "Epoch 36, CIFAR-10 Batch 1:  Loss: 0.739672 Training Accuracy: 0.7871 Validation Accuracy: 0.5752\n",
      "Epoch 36, CIFAR-10 Batch 2:  Loss: 0.723055 Training Accuracy: 0.7797 Validation Accuracy: 0.5696\n",
      "Epoch 36, CIFAR-10 Batch 3:  Loss: 0.694817 Training Accuracy: 0.7809 Validation Accuracy: 0.5736\n",
      "Epoch 36, CIFAR-10 Batch 4:  Loss: 0.685956 Training Accuracy: 0.7921 Validation Accuracy: 0.5748\n",
      "Epoch 36, CIFAR-10 Batch 5:  Loss: 0.678009 Training Accuracy: 0.7933 Validation Accuracy: 0.5706\n",
      "Epoch 37, CIFAR-10 Batch 1:  Loss: 0.734871 Training Accuracy: 0.7797 Validation Accuracy: 0.5766\n",
      "Epoch 37, CIFAR-10 Batch 2:  Loss: 0.718360 Training Accuracy: 0.7908 Validation Accuracy: 0.5700\n",
      "Epoch 37, CIFAR-10 Batch 3:  Loss: 0.683446 Training Accuracy: 0.7834 Validation Accuracy: 0.5690\n",
      "Epoch 37, CIFAR-10 Batch 4:  Loss: 0.665730 Training Accuracy: 0.7970 Validation Accuracy: 0.5746\n",
      "Epoch 37, CIFAR-10 Batch 5:  Loss: 0.666854 Training Accuracy: 0.7970 Validation Accuracy: 0.5668\n",
      "Epoch 38, CIFAR-10 Batch 1:  Loss: 0.712063 Training Accuracy: 0.7983 Validation Accuracy: 0.5720\n",
      "Epoch 38, CIFAR-10 Batch 2:  Loss: 0.714050 Training Accuracy: 0.7946 Validation Accuracy: 0.5736\n",
      "Epoch 38, CIFAR-10 Batch 3:  Loss: 0.660751 Training Accuracy: 0.7946 Validation Accuracy: 0.5722\n",
      "Epoch 38, CIFAR-10 Batch 4:  Loss: 0.636276 Training Accuracy: 0.8119 Validation Accuracy: 0.5714\n",
      "Epoch 38, CIFAR-10 Batch 5:  Loss: 0.683342 Training Accuracy: 0.8020 Validation Accuracy: 0.5710\n",
      "Epoch 39, CIFAR-10 Batch 1:  Loss: 0.700179 Training Accuracy: 0.7896 Validation Accuracy: 0.5730\n",
      "Epoch 39, CIFAR-10 Batch 2:  Loss: 0.706330 Training Accuracy: 0.7772 Validation Accuracy: 0.5750\n",
      "Epoch 39, CIFAR-10 Batch 3:  Loss: 0.660846 Training Accuracy: 0.7958 Validation Accuracy: 0.5732\n",
      "Epoch 39, CIFAR-10 Batch 4:  Loss: 0.628210 Training Accuracy: 0.8181 Validation Accuracy: 0.5788\n",
      "Epoch 39, CIFAR-10 Batch 5:  Loss: 0.656037 Training Accuracy: 0.8106 Validation Accuracy: 0.5822\n",
      "Epoch 40, CIFAR-10 Batch 1:  Loss: 0.673499 Training Accuracy: 0.8082 Validation Accuracy: 0.5772\n",
      "Epoch 40, CIFAR-10 Batch 2:  Loss: 0.665899 Training Accuracy: 0.8131 Validation Accuracy: 0.5810\n",
      "Epoch 40, CIFAR-10 Batch 3:  Loss: 0.648377 Training Accuracy: 0.7995 Validation Accuracy: 0.5780\n",
      "Epoch 40, CIFAR-10 Batch 4:  Loss: 0.612403 Training Accuracy: 0.8156 Validation Accuracy: 0.5804\n",
      "Epoch 40, CIFAR-10 Batch 5:  Loss: 0.636995 Training Accuracy: 0.8193 Validation Accuracy: 0.5762\n",
      "Epoch 41, CIFAR-10 Batch 1:  Loss: 0.679455 Training Accuracy: 0.7908 Validation Accuracy: 0.5768\n",
      "Epoch 41, CIFAR-10 Batch 2:  Loss: 0.652624 Training Accuracy: 0.8057 Validation Accuracy: 0.5870\n",
      "Epoch 41, CIFAR-10 Batch 3:  Loss: 0.622411 Training Accuracy: 0.8007 Validation Accuracy: 0.5788\n",
      "Epoch 41, CIFAR-10 Batch 4:  Loss: 0.580404 Training Accuracy: 0.8354 Validation Accuracy: 0.5886\n",
      "Epoch 41, CIFAR-10 Batch 5:  Loss: 0.622835 Training Accuracy: 0.8243 Validation Accuracy: 0.5758\n",
      "Epoch 42, CIFAR-10 Batch 1:  Loss: 0.659122 Training Accuracy: 0.8007 Validation Accuracy: 0.5740\n",
      "Epoch 42, CIFAR-10 Batch 2:  Loss: 0.646624 Training Accuracy: 0.8243 Validation Accuracy: 0.5750\n",
      "Epoch 42, CIFAR-10 Batch 3:  Loss: 0.629793 Training Accuracy: 0.8069 Validation Accuracy: 0.5820\n",
      "Epoch 42, CIFAR-10 Batch 4:  Loss: 0.587480 Training Accuracy: 0.8280 Validation Accuracy: 0.5830\n",
      "Epoch 42, CIFAR-10 Batch 5:  Loss: 0.610497 Training Accuracy: 0.8205 Validation Accuracy: 0.5736\n",
      "Epoch 43, CIFAR-10 Batch 1:  Loss: 0.650852 Training Accuracy: 0.8193 Validation Accuracy: 0.5808\n",
      "Epoch 43, CIFAR-10 Batch 2:  Loss: 0.649979 Training Accuracy: 0.8243 Validation Accuracy: 0.5764\n",
      "Epoch 43, CIFAR-10 Batch 3:  Loss: 0.614022 Training Accuracy: 0.8106 Validation Accuracy: 0.5810\n",
      "Epoch 43, CIFAR-10 Batch 4:  Loss: 0.577361 Training Accuracy: 0.8465 Validation Accuracy: 0.5884\n",
      "Epoch 43, CIFAR-10 Batch 5:  Loss: 0.600209 Training Accuracy: 0.8354 Validation Accuracy: 0.5742\n",
      "Epoch 44, CIFAR-10 Batch 1:  Loss: 0.643454 Training Accuracy: 0.8243 Validation Accuracy: 0.5802\n",
      "Epoch 44, CIFAR-10 Batch 2:  Loss: 0.628937 Training Accuracy: 0.8243 Validation Accuracy: 0.5762\n",
      "Epoch 44, CIFAR-10 Batch 3:  Loss: 0.606527 Training Accuracy: 0.8094 Validation Accuracy: 0.5812\n",
      "Epoch 44, CIFAR-10 Batch 4:  Loss: 0.575835 Training Accuracy: 0.8428 Validation Accuracy: 0.5858\n",
      "Epoch 44, CIFAR-10 Batch 5:  Loss: 0.571915 Training Accuracy: 0.8329 Validation Accuracy: 0.5826\n",
      "Epoch 45, CIFAR-10 Batch 1:  Loss: 0.626236 Training Accuracy: 0.8329 Validation Accuracy: 0.5838\n",
      "Epoch 45, CIFAR-10 Batch 2:  Loss: 0.598653 Training Accuracy: 0.8354 Validation Accuracy: 0.5856\n",
      "Epoch 45, CIFAR-10 Batch 3:  Loss: 0.587948 Training Accuracy: 0.8255 Validation Accuracy: 0.5796\n",
      "Epoch 45, CIFAR-10 Batch 4:  Loss: 0.545377 Training Accuracy: 0.8589 Validation Accuracy: 0.5864\n",
      "Epoch 45, CIFAR-10 Batch 5:  Loss: 0.552128 Training Accuracy: 0.8577 Validation Accuracy: 0.5830\n",
      "Epoch 46, CIFAR-10 Batch 1:  Loss: 0.603486 Training Accuracy: 0.8366 Validation Accuracy: 0.5900\n",
      "Epoch 46, CIFAR-10 Batch 2:  Loss: 0.587996 Training Accuracy: 0.8428 Validation Accuracy: 0.5800\n",
      "Epoch 46, CIFAR-10 Batch 3:  Loss: 0.561316 Training Accuracy: 0.8391 Validation Accuracy: 0.5876\n",
      "Epoch 46, CIFAR-10 Batch 4:  Loss: 0.539519 Training Accuracy: 0.8478 Validation Accuracy: 0.5890\n",
      "Epoch 46, CIFAR-10 Batch 5:  Loss: 0.524285 Training Accuracy: 0.8626 Validation Accuracy: 0.5890\n",
      "Epoch 47, CIFAR-10 Batch 1:  Loss: 0.580976 Training Accuracy: 0.8614 Validation Accuracy: 0.5902\n",
      "Epoch 47, CIFAR-10 Batch 2:  Loss: 0.573119 Training Accuracy: 0.8502 Validation Accuracy: 0.5846\n",
      "Epoch 47, CIFAR-10 Batch 3:  Loss: 0.543794 Training Accuracy: 0.8577 Validation Accuracy: 0.5910\n",
      "Epoch 47, CIFAR-10 Batch 4:  Loss: 0.516992 Training Accuracy: 0.8676 Validation Accuracy: 0.5948\n",
      "Epoch 47, CIFAR-10 Batch 5:  Loss: 0.529623 Training Accuracy: 0.8663 Validation Accuracy: 0.5866\n",
      "Epoch 48, CIFAR-10 Batch 1:  Loss: 0.559510 Training Accuracy: 0.8639 Validation Accuracy: 0.5882\n",
      "Epoch 48, CIFAR-10 Batch 2:  Loss: 0.552689 Training Accuracy: 0.8639 Validation Accuracy: 0.5920\n",
      "Epoch 48, CIFAR-10 Batch 3:  Loss: 0.538077 Training Accuracy: 0.8515 Validation Accuracy: 0.5878\n",
      "Epoch 48, CIFAR-10 Batch 4:  Loss: 0.508676 Training Accuracy: 0.8614 Validation Accuracy: 0.5926\n",
      "Epoch 48, CIFAR-10 Batch 5:  Loss: 0.520105 Training Accuracy: 0.8601 Validation Accuracy: 0.5912\n",
      "Epoch 49, CIFAR-10 Batch 1:  Loss: 0.557352 Training Accuracy: 0.8577 Validation Accuracy: 0.5912\n",
      "Epoch 49, CIFAR-10 Batch 2:  Loss: 0.554148 Training Accuracy: 0.8688 Validation Accuracy: 0.5840\n",
      "Epoch 49, CIFAR-10 Batch 3:  Loss: 0.520423 Training Accuracy: 0.8577 Validation Accuracy: 0.5940\n",
      "Epoch 49, CIFAR-10 Batch 4:  Loss: 0.506834 Training Accuracy: 0.8651 Validation Accuracy: 0.5914\n",
      "Epoch 49, CIFAR-10 Batch 5:  Loss: 0.523919 Training Accuracy: 0.8651 Validation Accuracy: 0.5884\n",
      "Epoch 50, CIFAR-10 Batch 1:  Loss: 0.572298 Training Accuracy: 0.8453 Validation Accuracy: 0.5864\n",
      "Epoch 50, CIFAR-10 Batch 2:  Loss: 0.544840 Training Accuracy: 0.8527 Validation Accuracy: 0.5872\n",
      "Epoch 50, CIFAR-10 Batch 3:  Loss: 0.520403 Training Accuracy: 0.8639 Validation Accuracy: 0.5964\n",
      "Epoch 50, CIFAR-10 Batch 4:  Loss: 0.490850 Training Accuracy: 0.8824 Validation Accuracy: 0.5932\n",
      "Epoch 50, CIFAR-10 Batch 5:  Loss: 0.523943 Training Accuracy: 0.8527 Validation Accuracy: 0.5954\n",
      "Epoch 51, CIFAR-10 Batch 1:  Loss: 0.537330 Training Accuracy: 0.8713 Validation Accuracy: 0.5964\n",
      "Epoch 51, CIFAR-10 Batch 2:  Loss: 0.517348 Training Accuracy: 0.8688 Validation Accuracy: 0.5956\n",
      "Epoch 51, CIFAR-10 Batch 3:  Loss: 0.500541 Training Accuracy: 0.8651 Validation Accuracy: 0.5970\n",
      "Epoch 51, CIFAR-10 Batch 4:  Loss: 0.480249 Training Accuracy: 0.8762 Validation Accuracy: 0.5918\n",
      "Epoch 51, CIFAR-10 Batch 5:  Loss: 0.492932 Training Accuracy: 0.8762 Validation Accuracy: 0.5966\n",
      "Epoch 52, CIFAR-10 Batch 1:  Loss: 0.526611 Training Accuracy: 0.8762 Validation Accuracy: 0.5944\n",
      "Epoch 52, CIFAR-10 Batch 2:  Loss: 0.509374 Training Accuracy: 0.8800 Validation Accuracy: 0.5908\n",
      "Epoch 52, CIFAR-10 Batch 3:  Loss: 0.505521 Training Accuracy: 0.8577 Validation Accuracy: 0.5906\n",
      "Epoch 52, CIFAR-10 Batch 4:  Loss: 0.466427 Training Accuracy: 0.8762 Validation Accuracy: 0.5978\n",
      "Epoch 52, CIFAR-10 Batch 5:  Loss: 0.465280 Training Accuracy: 0.8911 Validation Accuracy: 0.5972\n",
      "Epoch 53, CIFAR-10 Batch 1:  Loss: 0.502774 Training Accuracy: 0.8775 Validation Accuracy: 0.5936\n",
      "Epoch 53, CIFAR-10 Batch 2:  Loss: 0.474586 Training Accuracy: 0.8824 Validation Accuracy: 0.6010\n",
      "Epoch 53, CIFAR-10 Batch 3:  Loss: 0.488048 Training Accuracy: 0.8626 Validation Accuracy: 0.5922\n",
      "Epoch 53, CIFAR-10 Batch 4:  Loss: 0.444122 Training Accuracy: 0.9010 Validation Accuracy: 0.5970\n",
      "Epoch 53, CIFAR-10 Batch 5:  Loss: 0.461085 Training Accuracy: 0.8837 Validation Accuracy: 0.5918\n",
      "Epoch 54, CIFAR-10 Batch 1:  Loss: 0.488097 Training Accuracy: 0.8800 Validation Accuracy: 0.6018\n",
      "Epoch 54, CIFAR-10 Batch 2:  Loss: 0.462922 Training Accuracy: 0.8948 Validation Accuracy: 0.5984\n",
      "Epoch 54, CIFAR-10 Batch 3:  Loss: 0.471163 Training Accuracy: 0.8700 Validation Accuracy: 0.5962\n",
      "Epoch 54, CIFAR-10 Batch 4:  Loss: 0.425770 Training Accuracy: 0.9047 Validation Accuracy: 0.5996\n",
      "Epoch 54, CIFAR-10 Batch 5:  Loss: 0.455101 Training Accuracy: 0.8899 Validation Accuracy: 0.5966\n",
      "Epoch 55, CIFAR-10 Batch 1:  Loss: 0.485024 Training Accuracy: 0.8911 Validation Accuracy: 0.6004\n",
      "Epoch 55, CIFAR-10 Batch 2:  Loss: 0.456982 Training Accuracy: 0.8960 Validation Accuracy: 0.5988\n",
      "Epoch 55, CIFAR-10 Batch 3:  Loss: 0.458976 Training Accuracy: 0.8725 Validation Accuracy: 0.5972\n",
      "Epoch 55, CIFAR-10 Batch 4:  Loss: 0.420433 Training Accuracy: 0.8985 Validation Accuracy: 0.5968\n",
      "Epoch 55, CIFAR-10 Batch 5:  Loss: 0.429962 Training Accuracy: 0.8923 Validation Accuracy: 0.6060\n",
      "Epoch 56, CIFAR-10 Batch 1:  Loss: 0.476300 Training Accuracy: 0.8899 Validation Accuracy: 0.5996\n",
      "Epoch 56, CIFAR-10 Batch 2:  Loss: 0.442268 Training Accuracy: 0.9035 Validation Accuracy: 0.5972\n",
      "Epoch 56, CIFAR-10 Batch 3:  Loss: 0.439630 Training Accuracy: 0.8812 Validation Accuracy: 0.6014\n",
      "Epoch 56, CIFAR-10 Batch 4:  Loss: 0.434827 Training Accuracy: 0.8886 Validation Accuracy: 0.5958\n",
      "Epoch 56, CIFAR-10 Batch 5:  Loss: 0.443855 Training Accuracy: 0.8923 Validation Accuracy: 0.5924\n",
      "Epoch 57, CIFAR-10 Batch 1:  Loss: 0.471676 Training Accuracy: 0.8738 Validation Accuracy: 0.5974\n",
      "Epoch 57, CIFAR-10 Batch 2:  Loss: 0.443988 Training Accuracy: 0.8899 Validation Accuracy: 0.6002\n",
      "Epoch 57, CIFAR-10 Batch 3:  Loss: 0.433045 Training Accuracy: 0.8899 Validation Accuracy: 0.5978\n",
      "Epoch 57, CIFAR-10 Batch 4:  Loss: 0.435553 Training Accuracy: 0.8973 Validation Accuracy: 0.6056\n",
      "Epoch 57, CIFAR-10 Batch 5:  Loss: 0.425166 Training Accuracy: 0.9084 Validation Accuracy: 0.6056\n",
      "Epoch 58, CIFAR-10 Batch 1:  Loss: 0.470638 Training Accuracy: 0.8787 Validation Accuracy: 0.6052\n",
      "Epoch 58, CIFAR-10 Batch 2:  Loss: 0.431677 Training Accuracy: 0.9084 Validation Accuracy: 0.6000\n",
      "Epoch 58, CIFAR-10 Batch 3:  Loss: 0.424855 Training Accuracy: 0.8824 Validation Accuracy: 0.5916\n",
      "Epoch 58, CIFAR-10 Batch 4:  Loss: 0.400300 Training Accuracy: 0.9097 Validation Accuracy: 0.5992\n",
      "Epoch 58, CIFAR-10 Batch 5:  Loss: 0.419189 Training Accuracy: 0.9072 Validation Accuracy: 0.5970\n",
      "Epoch 59, CIFAR-10 Batch 1:  Loss: 0.462130 Training Accuracy: 0.8911 Validation Accuracy: 0.5976\n",
      "Epoch 59, CIFAR-10 Batch 2:  Loss: 0.422640 Training Accuracy: 0.9035 Validation Accuracy: 0.6008\n",
      "Epoch 59, CIFAR-10 Batch 3:  Loss: 0.409152 Training Accuracy: 0.8911 Validation Accuracy: 0.5972\n",
      "Epoch 59, CIFAR-10 Batch 4:  Loss: 0.386824 Training Accuracy: 0.9109 Validation Accuracy: 0.5958\n",
      "Epoch 59, CIFAR-10 Batch 5:  Loss: 0.410939 Training Accuracy: 0.9146 Validation Accuracy: 0.5998\n",
      "Epoch 60, CIFAR-10 Batch 1:  Loss: 0.445714 Training Accuracy: 0.8998 Validation Accuracy: 0.6080\n",
      "Epoch 60, CIFAR-10 Batch 2:  Loss: 0.415983 Training Accuracy: 0.9022 Validation Accuracy: 0.5936\n",
      "Epoch 60, CIFAR-10 Batch 3:  Loss: 0.411971 Training Accuracy: 0.8837 Validation Accuracy: 0.6004\n",
      "Epoch 60, CIFAR-10 Batch 4:  Loss: 0.390390 Training Accuracy: 0.9171 Validation Accuracy: 0.6040\n",
      "Epoch 60, CIFAR-10 Batch 5:  Loss: 0.399900 Training Accuracy: 0.9109 Validation Accuracy: 0.6040\n",
      "Epoch 61, CIFAR-10 Batch 1:  Loss: 0.441310 Training Accuracy: 0.8861 Validation Accuracy: 0.5948\n",
      "Epoch 61, CIFAR-10 Batch 2:  Loss: 0.415945 Training Accuracy: 0.9059 Validation Accuracy: 0.5954\n",
      "Epoch 61, CIFAR-10 Batch 3:  Loss: 0.410923 Training Accuracy: 0.9010 Validation Accuracy: 0.5932\n",
      "Epoch 61, CIFAR-10 Batch 4:  Loss: 0.374693 Training Accuracy: 0.9109 Validation Accuracy: 0.6058\n",
      "Epoch 61, CIFAR-10 Batch 5:  Loss: 0.414483 Training Accuracy: 0.8985 Validation Accuracy: 0.5942\n",
      "Epoch 62, CIFAR-10 Batch 1:  Loss: 0.453534 Training Accuracy: 0.8886 Validation Accuracy: 0.6008\n",
      "Epoch 62, CIFAR-10 Batch 2:  Loss: 0.397902 Training Accuracy: 0.9171 Validation Accuracy: 0.5984\n",
      "Epoch 62, CIFAR-10 Batch 3:  Loss: 0.404451 Training Accuracy: 0.8886 Validation Accuracy: 0.5894\n",
      "Epoch 62, CIFAR-10 Batch 4:  Loss: 0.382336 Training Accuracy: 0.9134 Validation Accuracy: 0.6082\n",
      "Epoch 62, CIFAR-10 Batch 5:  Loss: 0.395423 Training Accuracy: 0.9158 Validation Accuracy: 0.6060\n",
      "Epoch 63, CIFAR-10 Batch 1:  Loss: 0.414898 Training Accuracy: 0.9035 Validation Accuracy: 0.6056\n",
      "Epoch 63, CIFAR-10 Batch 2:  Loss: 0.399257 Training Accuracy: 0.9171 Validation Accuracy: 0.5942\n",
      "Epoch 63, CIFAR-10 Batch 3:  Loss: 0.380300 Training Accuracy: 0.9072 Validation Accuracy: 0.6038\n",
      "Epoch 63, CIFAR-10 Batch 4:  Loss: 0.368914 Training Accuracy: 0.9035 Validation Accuracy: 0.6084\n",
      "Epoch 63, CIFAR-10 Batch 5:  Loss: 0.372647 Training Accuracy: 0.9233 Validation Accuracy: 0.6060\n",
      "Epoch 64, CIFAR-10 Batch 1:  Loss: 0.406568 Training Accuracy: 0.9183 Validation Accuracy: 0.5966\n",
      "Epoch 64, CIFAR-10 Batch 2:  Loss: 0.381093 Training Accuracy: 0.9158 Validation Accuracy: 0.6026\n",
      "Epoch 64, CIFAR-10 Batch 3:  Loss: 0.384395 Training Accuracy: 0.9010 Validation Accuracy: 0.6002\n",
      "Epoch 64, CIFAR-10 Batch 4:  Loss: 0.345229 Training Accuracy: 0.9282 Validation Accuracy: 0.6074\n",
      "Epoch 64, CIFAR-10 Batch 5:  Loss: 0.367679 Training Accuracy: 0.9072 Validation Accuracy: 0.6004\n",
      "Epoch 65, CIFAR-10 Batch 1:  Loss: 0.408083 Training Accuracy: 0.9109 Validation Accuracy: 0.6038\n",
      "Epoch 65, CIFAR-10 Batch 2:  Loss: 0.368405 Training Accuracy: 0.9233 Validation Accuracy: 0.6080\n",
      "Epoch 65, CIFAR-10 Batch 3:  Loss: 0.367147 Training Accuracy: 0.9158 Validation Accuracy: 0.6022\n",
      "Epoch 65, CIFAR-10 Batch 4:  Loss: 0.355301 Training Accuracy: 0.9158 Validation Accuracy: 0.6102\n",
      "Epoch 65, CIFAR-10 Batch 5:  Loss: 0.359661 Training Accuracy: 0.9319 Validation Accuracy: 0.6108\n",
      "Epoch 66, CIFAR-10 Batch 1:  Loss: 0.402830 Training Accuracy: 0.9097 Validation Accuracy: 0.5960\n",
      "Epoch 66, CIFAR-10 Batch 2:  Loss: 0.376934 Training Accuracy: 0.9171 Validation Accuracy: 0.6022\n",
      "Epoch 66, CIFAR-10 Batch 3:  Loss: 0.356744 Training Accuracy: 0.9121 Validation Accuracy: 0.6058\n",
      "Epoch 66, CIFAR-10 Batch 4:  Loss: 0.340836 Training Accuracy: 0.9282 Validation Accuracy: 0.6100\n",
      "Epoch 66, CIFAR-10 Batch 5:  Loss: 0.362867 Training Accuracy: 0.9307 Validation Accuracy: 0.6068\n",
      "Epoch 67, CIFAR-10 Batch 1:  Loss: 0.385688 Training Accuracy: 0.9146 Validation Accuracy: 0.6046\n",
      "Epoch 67, CIFAR-10 Batch 2:  Loss: 0.350754 Training Accuracy: 0.9257 Validation Accuracy: 0.6074\n",
      "Epoch 67, CIFAR-10 Batch 3:  Loss: 0.336604 Training Accuracy: 0.9233 Validation Accuracy: 0.6052\n",
      "Epoch 67, CIFAR-10 Batch 4:  Loss: 0.334061 Training Accuracy: 0.9245 Validation Accuracy: 0.6100\n",
      "Epoch 67, CIFAR-10 Batch 5:  Loss: 0.328359 Training Accuracy: 0.9295 Validation Accuracy: 0.6114\n",
      "Epoch 68, CIFAR-10 Batch 1:  Loss: 0.390184 Training Accuracy: 0.9208 Validation Accuracy: 0.6058\n",
      "Epoch 68, CIFAR-10 Batch 2:  Loss: 0.348089 Training Accuracy: 0.9332 Validation Accuracy: 0.6010\n",
      "Epoch 68, CIFAR-10 Batch 3:  Loss: 0.352769 Training Accuracy: 0.9121 Validation Accuracy: 0.6116\n",
      "Epoch 68, CIFAR-10 Batch 4:  Loss: 0.327993 Training Accuracy: 0.9319 Validation Accuracy: 0.6106\n",
      "Epoch 68, CIFAR-10 Batch 5:  Loss: 0.335090 Training Accuracy: 0.9356 Validation Accuracy: 0.6098\n",
      "Epoch 69, CIFAR-10 Batch 1:  Loss: 0.378274 Training Accuracy: 0.9257 Validation Accuracy: 0.6032\n",
      "Epoch 69, CIFAR-10 Batch 2:  Loss: 0.345503 Training Accuracy: 0.9356 Validation Accuracy: 0.6028\n",
      "Epoch 69, CIFAR-10 Batch 3:  Loss: 0.325114 Training Accuracy: 0.9245 Validation Accuracy: 0.6098\n",
      "Epoch 69, CIFAR-10 Batch 4:  Loss: 0.329407 Training Accuracy: 0.9319 Validation Accuracy: 0.6104\n",
      "Epoch 69, CIFAR-10 Batch 5:  Loss: 0.325473 Training Accuracy: 0.9369 Validation Accuracy: 0.6070\n",
      "Epoch 70, CIFAR-10 Batch 1:  Loss: 0.352299 Training Accuracy: 0.9171 Validation Accuracy: 0.6102\n",
      "Epoch 70, CIFAR-10 Batch 2:  Loss: 0.331963 Training Accuracy: 0.9369 Validation Accuracy: 0.6146\n",
      "Epoch 70, CIFAR-10 Batch 3:  Loss: 0.320457 Training Accuracy: 0.9307 Validation Accuracy: 0.6054\n",
      "Epoch 70, CIFAR-10 Batch 4:  Loss: 0.306790 Training Accuracy: 0.9381 Validation Accuracy: 0.6092\n",
      "Epoch 70, CIFAR-10 Batch 5:  Loss: 0.312991 Training Accuracy: 0.9431 Validation Accuracy: 0.6114\n"
     ]
    }
   ],
   "source": [
    "\"\"\"\n",
    "DON'T MODIFY ANYTHING IN THIS CELL\n",
    "\"\"\"\n",
    "save_model_path = './image_classification'\n",
    "\n",
    "print('Training...')\n",
    "with tf.Session() as sess:\n",
    "    # Initializing the variables\n",
    "    sess.run(tf.global_variables_initializer())\n",
    "    \n",
    "    # Training cycle\n",
    "    for epoch in range(epochs):\n",
    "        # Loop over all batches\n",
    "        n_batches = 5\n",
    "        for batch_i in range(1, n_batches + 1):\n",
    "            for batch_features, batch_labels in helper.load_preprocess_training_batch(batch_i, batch_size):\n",
    "                train_neural_network(sess, optimizer, keep_probability, batch_features, batch_labels)\n",
    "            print('Epoch {:>2}, CIFAR-10 Batch {}:  '.format(epoch + 1, batch_i), end='')\n",
    "            print_stats(sess, batch_features, batch_labels, cost, accuracy)\n",
    "            \n",
    "    # Save Model\n",
    "    saver = tf.train.Saver()\n",
    "    save_path = saver.save(sess, save_model_path)"
   ]
  },
  {
   "cell_type": "markdown",
   "metadata": {},
   "source": [
    "# Checkpoint\n",
    "The model has been saved to disk.\n",
    "## Test Model\n",
    "Test your model against the test dataset.  This will be your final accuracy. You should have an accuracy greater than 50%. If you don't, keep tweaking the model architecture and parameters."
   ]
  },
  {
   "cell_type": "code",
   "execution_count": 18,
   "metadata": {
    "collapsed": false
   },
   "outputs": [
    {
     "name": "stdout",
     "output_type": "stream",
     "text": [
      "Testing Accuracy: 0.6081355810165405\n",
      "\n"
     ]
    },
    {
     "data": {
      "image/png": "[encoded data removed]",
      "text/plain": [
       "<matplotlib.figure.Figure at 0x7f64dbc7e1d0>"
      ]
     },
     "metadata": {
      "image/png": {
       "height": 319,
       "width": 355
      }
     },
     "output_type": "display_data"
    }
   ],
   "source": [
    "\"\"\"\n",
    "DON'T MODIFY ANYTHING IN THIS CELL\n",
    "\"\"\"\n",
    "%matplotlib inline\n",
    "%config InlineBackend.figure_format = 'retina'\n",
    "\n",
    "import tensorflow as tf\n",
    "import pickle\n",
    "import helper\n",
    "import random\n",
    "\n",
    "# Set batch size if not already set\n",
    "try:\n",
    "    if batch_size:\n",
    "        pass\n",
    "except NameError:\n",
    "    batch_size = 64\n",
    "\n",
    "save_model_path = './image_classification'\n",
    "n_samples = 4\n",
    "top_n_predictions = 3\n",
    "\n",
    "def test_model():\n",
    "    \"\"\"\n",
    "    Test the saved model against the test dataset\n",
    "    \"\"\"\n",
    "\n",
    "    test_features, test_labels = pickle.load(open('preprocess_training.p', mode='rb'))\n",
    "    loaded_graph = tf.Graph()\n",
    "\n",
    "    with tf.Session(graph=loaded_graph) as sess:\n",
    "        # Load model\n",
    "        loader = tf.train.import_meta_graph(save_model_path + '.meta')\n",
    "        loader.restore(sess, save_model_path)\n",
    "\n",
    "        # Get Tensors from loaded model\n",
    "        loaded_x = loaded_graph.get_tensor_by_name('x:0')\n",
    "        loaded_y = loaded_graph.get_tensor_by_name('y:0')\n",
    "        loaded_keep_prob = loaded_graph.get_tensor_by_name('keep_prob:0')\n",
    "        loaded_logits = loaded_graph.get_tensor_by_name('logits:0')\n",
    "        loaded_acc = loaded_graph.get_tensor_by_name('accuracy:0')\n",
    "        \n",
    "        # Get accuracy in batches for memory limitations\n",
    "        test_batch_acc_total = 0\n",
    "        test_batch_count = 0\n",
    "        \n",
    "        for train_feature_batch, train_label_batch in helper.batch_features_labels(test_features, test_labels, batch_size):\n",
    "            test_batch_acc_total += sess.run(\n",
    "                loaded_acc,\n",
    "                feed_dict={loaded_x: train_feature_batch, loaded_y: train_label_batch, loaded_keep_prob: 1.0})\n",
    "            test_batch_count += 1\n",
    "\n",
    "        print('Testing Accuracy: {}\\n'.format(test_batch_acc_total/test_batch_count))\n",
    "\n",
    "        # Print Random Samples\n",
    "        random_test_features, random_test_labels = tuple(zip(*random.sample(list(zip(test_features, test_labels)), n_samples)))\n",
    "        random_test_predictions = sess.run(\n",
    "            tf.nn.top_k(tf.nn.softmax(loaded_logits), top_n_predictions),\n",
    "            feed_dict={loaded_x: random_test_features, loaded_y: random_test_labels, loaded_keep_prob: 1.0})\n",
    "        helper.display_image_predictions(random_test_features, random_test_labels, random_test_predictions)\n",
    "\n",
    "\n",
    "test_model()"
   ]
  },
  {
   "cell_type": "markdown",
   "metadata": {},
   "source": [
    "## Why 50-80% Accuracy?\n",
    "You might be wondering why you can't get an accuracy any higher. First things first, 50% isn't bad for a simple CNN.  Pure guessing would get you 10% accuracy. That's because there are many more techniques that can be applied to your model and we recemmond that once you are done with this project, you explore!\n",
    "\n",
    "## Submitting This Project\n",
    "When submitting this project, make sure to run all the cells before saving the notebook.  Save the notebook file as \"image_classification.ipynb\" and save it as a HTML file under \"File\" -> \"Download as\".  Include the \"helper.py\" and \"problem_unittests.py\" files in your submission."
   ]
  }
 ],
 "metadata": {
  "kernelspec": {
   "display_name": "Python 3",
   "language": "python",
   "name": "python3"
  },
  "language_info": {
   "codemirror_mode": {
    "name": "ipython",
    "version": 3
   },
   "file_extension": ".py",
   "mimetype": "text/x-python",
   "name": "python",
   "nbconvert_exporter": "python",
   "pygments_lexer": "ipython3",
   "version": "3.6.0"
  }
 },
 "nbformat": 4,
 "nbformat_minor": 0
}
